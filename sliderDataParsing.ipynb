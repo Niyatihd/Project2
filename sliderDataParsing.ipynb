{
 "cells": [
  {
   "cell_type": "code",
   "execution_count": 2,
   "metadata": {
    "collapsed": true
   },
   "outputs": [],
   "source": [
    "import pandas as pd"
   ]
  },
  {
   "cell_type": "code",
   "execution_count": 3,
   "metadata": {},
   "outputs": [
    {
     "data": {
      "text/html": [
       "<div>\n",
       "<style>\n",
       "    .dataframe thead tr:only-child th {\n",
       "        text-align: right;\n",
       "    }\n",
       "\n",
       "    .dataframe thead th {\n",
       "        text-align: left;\n",
       "    }\n",
       "\n",
       "    .dataframe tbody tr th {\n",
       "        vertical-align: top;\n",
       "    }\n",
       "</style>\n",
       "<table border=\"1\" class=\"dataframe\">\n",
       "  <thead>\n",
       "    <tr style=\"text-align: right;\">\n",
       "      <th></th>\n",
       "      <th>OBJECTID</th>\n",
       "      <th>APPLICATION_NAME</th>\n",
       "      <th>APPLICATION</th>\n",
       "      <th>STATUS</th>\n",
       "      <th>LDS_STATUS</th>\n",
       "      <th>FAR</th>\n",
       "      <th>NUM_OF_BUI</th>\n",
       "      <th>OptionType</th>\n",
       "      <th>D_TOTALS</th>\n",
       "      <th>D_Office</th>\n",
       "      <th>...</th>\n",
       "      <th>D_ResGFA</th>\n",
       "      <th>D_ResDU</th>\n",
       "      <th>Ex_Office</th>\n",
       "      <th>Ex_Retail</th>\n",
       "      <th>Ex_Hotel</th>\n",
       "      <th>Ex_Inst</th>\n",
       "      <th>Ex_Indus</th>\n",
       "      <th>Ex_NonRes</th>\n",
       "      <th>Ex_ResGFA</th>\n",
       "      <th>Ex_ResDu</th>\n",
       "    </tr>\n",
       "  </thead>\n",
       "  <tbody>\n",
       "    <tr>\n",
       "      <th>0</th>\n",
       "      <td>1</td>\n",
       "      <td>1941 &amp; 1950 Roland Clark Place</td>\n",
       "      <td>DPA HM-117-03</td>\n",
       "      <td>CDP Proposed</td>\n",
       "      <td>UNDER REVIEW</td>\n",
       "      <td>2.3</td>\n",
       "      <td>2</td>\n",
       "      <td>No</td>\n",
       "      <td>744418</td>\n",
       "      <td>0</td>\n",
       "      <td>...</td>\n",
       "      <td>744418</td>\n",
       "      <td>699</td>\n",
       "      <td>116997</td>\n",
       "      <td>0</td>\n",
       "      <td>0</td>\n",
       "      <td>0</td>\n",
       "      <td>0</td>\n",
       "      <td>116997</td>\n",
       "      <td>0</td>\n",
       "      <td>0</td>\n",
       "    </tr>\n",
       "    <tr>\n",
       "      <th>1</th>\n",
       "      <td>2</td>\n",
       "      <td>JBG/EYA (block C)</td>\n",
       "      <td>RZ 2016-HM-024</td>\n",
       "      <td>FDP Proposed</td>\n",
       "      <td>UNDER REVIEW</td>\n",
       "      <td>2.2</td>\n",
       "      <td>8</td>\n",
       "      <td>MaxRes</td>\n",
       "      <td>1784801</td>\n",
       "      <td>259845</td>\n",
       "      <td>...</td>\n",
       "      <td>1341401</td>\n",
       "      <td>1017</td>\n",
       "      <td>303857</td>\n",
       "      <td>0</td>\n",
       "      <td>0</td>\n",
       "      <td>0</td>\n",
       "      <td>0</td>\n",
       "      <td>303857</td>\n",
       "      <td>0</td>\n",
       "      <td>0</td>\n",
       "    </tr>\n",
       "    <tr>\n",
       "      <th>2</th>\n",
       "      <td>3</td>\n",
       "      <td>Association Drive</td>\n",
       "      <td>Association Drive</td>\n",
       "      <td>Pre-App</td>\n",
       "      <td>PREAPP ACTIVE</td>\n",
       "      <td>1.5</td>\n",
       "      <td>7</td>\n",
       "      <td>No</td>\n",
       "      <td>2069641</td>\n",
       "      <td>225000</td>\n",
       "      <td>...</td>\n",
       "      <td>1540424</td>\n",
       "      <td>1147</td>\n",
       "      <td>211853</td>\n",
       "      <td>0</td>\n",
       "      <td>0</td>\n",
       "      <td>0</td>\n",
       "      <td>0</td>\n",
       "      <td>211853</td>\n",
       "      <td>0</td>\n",
       "      <td>0</td>\n",
       "    </tr>\n",
       "    <tr>\n",
       "      <th>3</th>\n",
       "      <td>4</td>\n",
       "      <td>Lowe 11493 Sunset Hills</td>\n",
       "      <td>Lowe 11493 Sunset Hills</td>\n",
       "      <td>Pre-App</td>\n",
       "      <td>PREAPP ACTIVE</td>\n",
       "      <td>1.5</td>\n",
       "      <td>3</td>\n",
       "      <td>No</td>\n",
       "      <td>616884</td>\n",
       "      <td>260000</td>\n",
       "      <td>...</td>\n",
       "      <td>326884</td>\n",
       "      <td>800</td>\n",
       "      <td>181392</td>\n",
       "      <td>0</td>\n",
       "      <td>0</td>\n",
       "      <td>0</td>\n",
       "      <td>0</td>\n",
       "      <td>181392</td>\n",
       "      <td>0</td>\n",
       "      <td>0</td>\n",
       "    </tr>\n",
       "    <tr>\n",
       "      <th>4</th>\n",
       "      <td>5</td>\n",
       "      <td>Boston Properties LP</td>\n",
       "      <td>PCA 86-C-119-07</td>\n",
       "      <td>FDP Proposed</td>\n",
       "      <td>ACCEPTED</td>\n",
       "      <td>3.2</td>\n",
       "      <td>11</td>\n",
       "      <td>No</td>\n",
       "      <td>4843600</td>\n",
       "      <td>2234000</td>\n",
       "      <td>...</td>\n",
       "      <td>1938000</td>\n",
       "      <td>2010</td>\n",
       "      <td>662943</td>\n",
       "      <td>0</td>\n",
       "      <td>0</td>\n",
       "      <td>0</td>\n",
       "      <td>0</td>\n",
       "      <td>662943</td>\n",
       "      <td>0</td>\n",
       "      <td>0</td>\n",
       "    </tr>\n",
       "  </tbody>\n",
       "</table>\n",
       "<p>5 rows × 25 columns</p>\n",
       "</div>"
      ],
      "text/plain": [
       "   OBJECTID                APPLICATION_NAME              APPLICATION  \\\n",
       "0         1  1941 & 1950 Roland Clark Place            DPA HM-117-03   \n",
       "1         2               JBG/EYA (block C)           RZ 2016-HM-024   \n",
       "2         3               Association Drive        Association Drive   \n",
       "3         4         Lowe 11493 Sunset Hills  Lowe 11493 Sunset Hills   \n",
       "4         5            Boston Properties LP          PCA 86-C-119-07   \n",
       "\n",
       "         STATUS     LDS_STATUS  FAR  NUM_OF_BUI OptionType  D_TOTALS  \\\n",
       "0  CDP Proposed   UNDER REVIEW  2.3           2         No    744418   \n",
       "1  FDP Proposed   UNDER REVIEW  2.2           8     MaxRes   1784801   \n",
       "2       Pre-App  PREAPP ACTIVE  1.5           7         No   2069641   \n",
       "3       Pre-App  PREAPP ACTIVE  1.5           3         No    616884   \n",
       "4  FDP Proposed       ACCEPTED  3.2          11         No   4843600   \n",
       "\n",
       "   D_Office    ...     D_ResGFA  D_ResDU  Ex_Office  Ex_Retail  Ex_Hotel  \\\n",
       "0         0    ...       744418      699     116997          0         0   \n",
       "1    259845    ...      1341401     1017     303857          0         0   \n",
       "2    225000    ...      1540424     1147     211853          0         0   \n",
       "3    260000    ...       326884      800     181392          0         0   \n",
       "4   2234000    ...      1938000     2010     662943          0         0   \n",
       "\n",
       "   Ex_Inst  Ex_Indus  Ex_NonRes  Ex_ResGFA  Ex_ResDu  \n",
       "0        0         0     116997          0         0  \n",
       "1        0         0     303857          0         0  \n",
       "2        0         0     211853          0         0  \n",
       "3        0         0     181392          0         0  \n",
       "4        0         0     662943          0         0  \n",
       "\n",
       "[5 rows x 25 columns]"
      ]
     },
     "execution_count": 3,
     "metadata": {},
     "output_type": "execute_result"
    }
   ],
   "source": [
    "data = pd.read_csv(\"static/resources/data/sliderdataclean.csv\")\n",
    "data.head()\n"
   ]
  },
  {
   "cell_type": "code",
   "execution_count": 4,
   "metadata": {
    "collapsed": true
   },
   "outputs": [],
   "source": [
    "cleaned_slider_data = data[['APPLICATION_NAME','APPLICATION','D_TOTALS','D_Office','D_Retail','D_Hotel',\n",
    "                     'D_Inst','D_Indus','D_NonResGFA','D_ResGFA']]"
   ]
  },
  {
   "cell_type": "code",
   "execution_count": 5,
   "metadata": {},
   "outputs": [
    {
     "data": {
      "text/html": [
       "<div>\n",
       "<style>\n",
       "    .dataframe thead tr:only-child th {\n",
       "        text-align: right;\n",
       "    }\n",
       "\n",
       "    .dataframe thead th {\n",
       "        text-align: left;\n",
       "    }\n",
       "\n",
       "    .dataframe tbody tr th {\n",
       "        vertical-align: top;\n",
       "    }\n",
       "</style>\n",
       "<table border=\"1\" class=\"dataframe\">\n",
       "  <thead>\n",
       "    <tr style=\"text-align: right;\">\n",
       "      <th></th>\n",
       "      <th>APPLICATION_NAME</th>\n",
       "      <th>APPLICATION</th>\n",
       "      <th>D_TOTALS</th>\n",
       "      <th>D_Office</th>\n",
       "      <th>D_Retail</th>\n",
       "      <th>D_Hotel</th>\n",
       "      <th>D_Inst</th>\n",
       "      <th>D_Indus</th>\n",
       "      <th>D_NonResGFA</th>\n",
       "      <th>D_ResGFA</th>\n",
       "    </tr>\n",
       "  </thead>\n",
       "  <tbody>\n",
       "    <tr>\n",
       "      <th>0</th>\n",
       "      <td>1941 &amp; 1950 Roland Clark Place</td>\n",
       "      <td>DPA HM-117-03</td>\n",
       "      <td>744418</td>\n",
       "      <td>0</td>\n",
       "      <td>0</td>\n",
       "      <td>0</td>\n",
       "      <td>0</td>\n",
       "      <td>0</td>\n",
       "      <td>0</td>\n",
       "      <td>744418</td>\n",
       "    </tr>\n",
       "    <tr>\n",
       "      <th>1</th>\n",
       "      <td>JBG/EYA (block C)</td>\n",
       "      <td>RZ 2016-HM-024</td>\n",
       "      <td>1784801</td>\n",
       "      <td>259845</td>\n",
       "      <td>183555</td>\n",
       "      <td>0</td>\n",
       "      <td>0</td>\n",
       "      <td>0</td>\n",
       "      <td>443400</td>\n",
       "      <td>1341401</td>\n",
       "    </tr>\n",
       "    <tr>\n",
       "      <th>2</th>\n",
       "      <td>Association Drive</td>\n",
       "      <td>Association Drive</td>\n",
       "      <td>2069641</td>\n",
       "      <td>225000</td>\n",
       "      <td>206857</td>\n",
       "      <td>0</td>\n",
       "      <td>97360</td>\n",
       "      <td>0</td>\n",
       "      <td>529217</td>\n",
       "      <td>1540424</td>\n",
       "    </tr>\n",
       "    <tr>\n",
       "      <th>3</th>\n",
       "      <td>Lowe 11493 Sunset Hills</td>\n",
       "      <td>Lowe 11493 Sunset Hills</td>\n",
       "      <td>616884</td>\n",
       "      <td>260000</td>\n",
       "      <td>30000</td>\n",
       "      <td>0</td>\n",
       "      <td>0</td>\n",
       "      <td>0</td>\n",
       "      <td>290000</td>\n",
       "      <td>326884</td>\n",
       "    </tr>\n",
       "    <tr>\n",
       "      <th>4</th>\n",
       "      <td>Boston Properties LP</td>\n",
       "      <td>PCA 86-C-119-07</td>\n",
       "      <td>4843600</td>\n",
       "      <td>2234000</td>\n",
       "      <td>162600</td>\n",
       "      <td>509000</td>\n",
       "      <td>0</td>\n",
       "      <td>0</td>\n",
       "      <td>2905600</td>\n",
       "      <td>1938000</td>\n",
       "    </tr>\n",
       "  </tbody>\n",
       "</table>\n",
       "</div>"
      ],
      "text/plain": [
       "                 APPLICATION_NAME              APPLICATION  D_TOTALS  \\\n",
       "0  1941 & 1950 Roland Clark Place            DPA HM-117-03    744418   \n",
       "1               JBG/EYA (block C)           RZ 2016-HM-024   1784801   \n",
       "2               Association Drive        Association Drive   2069641   \n",
       "3         Lowe 11493 Sunset Hills  Lowe 11493 Sunset Hills    616884   \n",
       "4            Boston Properties LP          PCA 86-C-119-07   4843600   \n",
       "\n",
       "   D_Office  D_Retail  D_Hotel  D_Inst  D_Indus  D_NonResGFA  D_ResGFA  \n",
       "0         0         0        0       0        0            0    744418  \n",
       "1    259845    183555        0       0        0       443400   1341401  \n",
       "2    225000    206857        0   97360        0       529217   1540424  \n",
       "3    260000     30000        0       0        0       290000    326884  \n",
       "4   2234000    162600   509000       0        0      2905600   1938000  "
      ]
     },
     "execution_count": 5,
     "metadata": {},
     "output_type": "execute_result"
    }
   ],
   "source": [
    "cleaned_slider_data.head()"
   ]
  },
  {
   "cell_type": "code",
   "execution_count": 52,
   "metadata": {
    "collapsed": true
   },
   "outputs": [],
   "source": [
    "cleaned_slider_data.set_index(['APPLICATION_NAME'], inplace=True)"
   ]
  },
  {
   "cell_type": "code",
   "execution_count": 53,
   "metadata": {},
   "outputs": [
    {
     "data": {
      "text/html": [
       "<div>\n",
       "<style>\n",
       "    .dataframe thead tr:only-child th {\n",
       "        text-align: right;\n",
       "    }\n",
       "\n",
       "    .dataframe thead th {\n",
       "        text-align: left;\n",
       "    }\n",
       "\n",
       "    .dataframe tbody tr th {\n",
       "        vertical-align: top;\n",
       "    }\n",
       "</style>\n",
       "<table border=\"1\" class=\"dataframe\">\n",
       "  <thead>\n",
       "    <tr style=\"text-align: right;\">\n",
       "      <th></th>\n",
       "      <th>APPLICATION</th>\n",
       "      <th>D_TOTALS</th>\n",
       "      <th>D_Office</th>\n",
       "      <th>D_Retail</th>\n",
       "      <th>D_Hotel</th>\n",
       "      <th>D_Inst</th>\n",
       "      <th>D_Indus</th>\n",
       "      <th>D_NonResGFA</th>\n",
       "      <th>D_ResGFA</th>\n",
       "    </tr>\n",
       "    <tr>\n",
       "      <th>APPLICATION_NAME</th>\n",
       "      <th></th>\n",
       "      <th></th>\n",
       "      <th></th>\n",
       "      <th></th>\n",
       "      <th></th>\n",
       "      <th></th>\n",
       "      <th></th>\n",
       "      <th></th>\n",
       "      <th></th>\n",
       "    </tr>\n",
       "  </thead>\n",
       "  <tbody>\n",
       "    <tr>\n",
       "      <th>1941 &amp; 1950 Roland Clark Place</th>\n",
       "      <td>DPA HM-117-03</td>\n",
       "      <td>744418</td>\n",
       "      <td>0</td>\n",
       "      <td>0</td>\n",
       "      <td>0</td>\n",
       "      <td>0</td>\n",
       "      <td>0</td>\n",
       "      <td>0</td>\n",
       "      <td>744418</td>\n",
       "    </tr>\n",
       "    <tr>\n",
       "      <th>JBG/EYA (block C)</th>\n",
       "      <td>RZ 2016-HM-024</td>\n",
       "      <td>1784801</td>\n",
       "      <td>259845</td>\n",
       "      <td>183555</td>\n",
       "      <td>0</td>\n",
       "      <td>0</td>\n",
       "      <td>0</td>\n",
       "      <td>443400</td>\n",
       "      <td>1341401</td>\n",
       "    </tr>\n",
       "    <tr>\n",
       "      <th>Association Drive</th>\n",
       "      <td>Association Drive</td>\n",
       "      <td>2069641</td>\n",
       "      <td>225000</td>\n",
       "      <td>206857</td>\n",
       "      <td>0</td>\n",
       "      <td>97360</td>\n",
       "      <td>0</td>\n",
       "      <td>529217</td>\n",
       "      <td>1540424</td>\n",
       "    </tr>\n",
       "    <tr>\n",
       "      <th>Lowe 11493 Sunset Hills</th>\n",
       "      <td>Lowe 11493 Sunset Hills</td>\n",
       "      <td>616884</td>\n",
       "      <td>260000</td>\n",
       "      <td>30000</td>\n",
       "      <td>0</td>\n",
       "      <td>0</td>\n",
       "      <td>0</td>\n",
       "      <td>290000</td>\n",
       "      <td>326884</td>\n",
       "    </tr>\n",
       "    <tr>\n",
       "      <th>Boston Properties LP</th>\n",
       "      <td>PCA 86-C-119-07</td>\n",
       "      <td>4843600</td>\n",
       "      <td>2234000</td>\n",
       "      <td>162600</td>\n",
       "      <td>509000</td>\n",
       "      <td>0</td>\n",
       "      <td>0</td>\n",
       "      <td>2905600</td>\n",
       "      <td>1938000</td>\n",
       "    </tr>\n",
       "    <tr>\n",
       "      <th>Brandywine Wood Oak</th>\n",
       "      <td>RZ 2018-MD-003</td>\n",
       "      <td>433585</td>\n",
       "      <td>397085</td>\n",
       "      <td>36500</td>\n",
       "      <td>0</td>\n",
       "      <td>0</td>\n",
       "      <td>0</td>\n",
       "      <td>433585</td>\n",
       "      <td>0</td>\n",
       "    </tr>\n",
       "    <tr>\n",
       "      <th>Golf Course Overlook</th>\n",
       "      <td>RZ 2016-HM-016</td>\n",
       "      <td>371548</td>\n",
       "      <td>0</td>\n",
       "      <td>2500</td>\n",
       "      <td>0</td>\n",
       "      <td>0</td>\n",
       "      <td>0</td>\n",
       "      <td>2500</td>\n",
       "      <td>369048</td>\n",
       "    </tr>\n",
       "    <tr>\n",
       "      <th>AAFMA</th>\n",
       "      <td>PCA 78-C-098-04</td>\n",
       "      <td>144583</td>\n",
       "      <td>144583</td>\n",
       "      <td>0</td>\n",
       "      <td>0</td>\n",
       "      <td>0</td>\n",
       "      <td>0</td>\n",
       "      <td>144583</td>\n",
       "      <td>0</td>\n",
       "    </tr>\n",
       "    <tr>\n",
       "      <th>RP 11111 Sunset Hills LLC</th>\n",
       "      <td>RZ 2017-HM-006</td>\n",
       "      <td>649122</td>\n",
       "      <td>315783</td>\n",
       "      <td>40000</td>\n",
       "      <td>93339</td>\n",
       "      <td>0</td>\n",
       "      <td>0</td>\n",
       "      <td>449122</td>\n",
       "      <td>200000</td>\n",
       "    </tr>\n",
       "    <tr>\n",
       "      <th>Michael Faraday Partners</th>\n",
       "      <td>RZ 2017-HM-009</td>\n",
       "      <td>285845</td>\n",
       "      <td>0</td>\n",
       "      <td>0</td>\n",
       "      <td>0</td>\n",
       "      <td>0</td>\n",
       "      <td>0</td>\n",
       "      <td>0</td>\n",
       "      <td>285845</td>\n",
       "    </tr>\n",
       "    <tr>\n",
       "      <th>CoreSite</th>\n",
       "      <td>RZ 2017-HM-032</td>\n",
       "      <td>943600</td>\n",
       "      <td>234518</td>\n",
       "      <td>0</td>\n",
       "      <td>0</td>\n",
       "      <td>0</td>\n",
       "      <td>0</td>\n",
       "      <td>234518</td>\n",
       "      <td>0</td>\n",
       "    </tr>\n",
       "    <tr>\n",
       "      <th>Linden</th>\n",
       "      <td>RZ 2016-HM-004</td>\n",
       "      <td>545950</td>\n",
       "      <td>0</td>\n",
       "      <td>12000</td>\n",
       "      <td>0</td>\n",
       "      <td>0</td>\n",
       "      <td>0</td>\n",
       "      <td>12000</td>\n",
       "      <td>533950</td>\n",
       "    </tr>\n",
       "    <tr>\n",
       "      <th>Campus Commons</th>\n",
       "      <td>RZ 2017-HM-018</td>\n",
       "      <td>1389430</td>\n",
       "      <td>410090</td>\n",
       "      <td>30600</td>\n",
       "      <td>0</td>\n",
       "      <td>0</td>\n",
       "      <td>0</td>\n",
       "      <td>440690</td>\n",
       "      <td>948740</td>\n",
       "    </tr>\n",
       "    <tr>\n",
       "      <th>Reston Crossing</th>\n",
       "      <td>RZ 2018-HM-002</td>\n",
       "      <td>1965000</td>\n",
       "      <td>750000</td>\n",
       "      <td>65000</td>\n",
       "      <td>0</td>\n",
       "      <td>0</td>\n",
       "      <td>0</td>\n",
       "      <td>815000</td>\n",
       "      <td>1150000</td>\n",
       "    </tr>\n",
       "    <tr>\n",
       "      <th>Reston Crescent</th>\n",
       "      <td>RZ 2016-HM-007</td>\n",
       "      <td>4161940</td>\n",
       "      <td>1885940</td>\n",
       "      <td>380000</td>\n",
       "      <td>125000</td>\n",
       "      <td>0</td>\n",
       "      <td>0</td>\n",
       "      <td>2390940</td>\n",
       "      <td>1771000</td>\n",
       "    </tr>\n",
       "    <tr>\n",
       "      <th>Pulte Home Corporation</th>\n",
       "      <td>RZ 2016-HM-031</td>\n",
       "      <td>203166</td>\n",
       "      <td>103166</td>\n",
       "      <td>0</td>\n",
       "      <td>0</td>\n",
       "      <td>0</td>\n",
       "      <td>0</td>\n",
       "      <td>103166</td>\n",
       "      <td>100000</td>\n",
       "    </tr>\n",
       "    <tr>\n",
       "      <th>Reston Town Center North</th>\n",
       "      <td>RZ 2017-HM-020</td>\n",
       "      <td>3980682</td>\n",
       "      <td>0</td>\n",
       "      <td>674741</td>\n",
       "      <td>0</td>\n",
       "      <td>780841</td>\n",
       "      <td>0</td>\n",
       "      <td>1455582</td>\n",
       "      <td>2525100</td>\n",
       "    </tr>\n",
       "    <tr>\n",
       "      <th>JBG Reston Executive Center (RTC West)</th>\n",
       "      <td>RZ 2016-HM-017</td>\n",
       "      <td>1885372</td>\n",
       "      <td>1061568</td>\n",
       "      <td>90100</td>\n",
       "      <td>0</td>\n",
       "      <td>70954</td>\n",
       "      <td>0</td>\n",
       "      <td>1222622</td>\n",
       "      <td>662750</td>\n",
       "    </tr>\n",
       "    <tr>\n",
       "      <th>Reston Corner</th>\n",
       "      <td>RZ 2018-HM-004</td>\n",
       "      <td>174642</td>\n",
       "      <td>0</td>\n",
       "      <td>1500</td>\n",
       "      <td>0</td>\n",
       "      <td>0</td>\n",
       "      <td>0</td>\n",
       "      <td>1500</td>\n",
       "      <td>173142</td>\n",
       "    </tr>\n",
       "  </tbody>\n",
       "</table>\n",
       "</div>"
      ],
      "text/plain": [
       "                                                    APPLICATION  D_TOTALS  \\\n",
       "APPLICATION_NAME                                                            \n",
       "1941 & 1950 Roland Clark Place                    DPA HM-117-03    744418   \n",
       "JBG/EYA (block C)                                RZ 2016-HM-024   1784801   \n",
       "Association Drive                             Association Drive   2069641   \n",
       "Lowe 11493 Sunset Hills                 Lowe 11493 Sunset Hills    616884   \n",
       "Boston Properties LP                            PCA 86-C-119-07   4843600   \n",
       "Brandywine Wood Oak                              RZ 2018-MD-003    433585   \n",
       "Golf Course Overlook                             RZ 2016-HM-016    371548   \n",
       "AAFMA                                           PCA 78-C-098-04    144583   \n",
       "RP 11111 Sunset Hills LLC                        RZ 2017-HM-006    649122   \n",
       "Michael Faraday Partners                         RZ 2017-HM-009    285845   \n",
       "CoreSite                                         RZ 2017-HM-032    943600   \n",
       "Linden                                           RZ 2016-HM-004    545950   \n",
       "Campus Commons                                   RZ 2017-HM-018   1389430   \n",
       "Reston Crossing                                  RZ 2018-HM-002   1965000   \n",
       "Reston Crescent                                  RZ 2016-HM-007   4161940   \n",
       "Pulte Home Corporation                           RZ 2016-HM-031    203166   \n",
       "Reston Town Center North                         RZ 2017-HM-020   3980682   \n",
       "JBG Reston Executive Center (RTC West)           RZ 2016-HM-017   1885372   \n",
       "Reston Corner                                    RZ 2018-HM-004    174642   \n",
       "\n",
       "                                        D_Office  D_Retail  D_Hotel  D_Inst  \\\n",
       "APPLICATION_NAME                                                              \n",
       "1941 & 1950 Roland Clark Place                 0         0        0       0   \n",
       "JBG/EYA (block C)                         259845    183555        0       0   \n",
       "Association Drive                         225000    206857        0   97360   \n",
       "Lowe 11493 Sunset Hills                   260000     30000        0       0   \n",
       "Boston Properties LP                     2234000    162600   509000       0   \n",
       "Brandywine Wood Oak                       397085     36500        0       0   \n",
       "Golf Course Overlook                           0      2500        0       0   \n",
       "AAFMA                                     144583         0        0       0   \n",
       "RP 11111 Sunset Hills LLC                 315783     40000    93339       0   \n",
       "Michael Faraday Partners                       0         0        0       0   \n",
       "CoreSite                                  234518         0        0       0   \n",
       "Linden                                         0     12000        0       0   \n",
       "Campus Commons                            410090     30600        0       0   \n",
       "Reston Crossing                           750000     65000        0       0   \n",
       "Reston Crescent                          1885940    380000   125000       0   \n",
       "Pulte Home Corporation                    103166         0        0       0   \n",
       "Reston Town Center North                       0    674741        0  780841   \n",
       "JBG Reston Executive Center (RTC West)   1061568     90100        0   70954   \n",
       "Reston Corner                                  0      1500        0       0   \n",
       "\n",
       "                                        D_Indus  D_NonResGFA  D_ResGFA  \n",
       "APPLICATION_NAME                                                        \n",
       "1941 & 1950 Roland Clark Place                0            0    744418  \n",
       "JBG/EYA (block C)                             0       443400   1341401  \n",
       "Association Drive                             0       529217   1540424  \n",
       "Lowe 11493 Sunset Hills                       0       290000    326884  \n",
       "Boston Properties LP                          0      2905600   1938000  \n",
       "Brandywine Wood Oak                           0       433585         0  \n",
       "Golf Course Overlook                          0         2500    369048  \n",
       "AAFMA                                         0       144583         0  \n",
       "RP 11111 Sunset Hills LLC                     0       449122    200000  \n",
       "Michael Faraday Partners                      0            0    285845  \n",
       "CoreSite                                      0       234518         0  \n",
       "Linden                                        0        12000    533950  \n",
       "Campus Commons                                0       440690    948740  \n",
       "Reston Crossing                               0       815000   1150000  \n",
       "Reston Crescent                               0      2390940   1771000  \n",
       "Pulte Home Corporation                        0       103166    100000  \n",
       "Reston Town Center North                      0      1455582   2525100  \n",
       "JBG Reston Executive Center (RTC West)        0      1222622    662750  \n",
       "Reston Corner                                 0         1500    173142  "
      ]
     },
     "execution_count": 53,
     "metadata": {},
     "output_type": "execute_result"
    }
   ],
   "source": [
    "cleaned_slider_data"
   ]
  },
  {
   "cell_type": "code",
   "execution_count": 56,
   "metadata": {
    "collapsed": true
   },
   "outputs": [],
   "source": [
    "sliderdata_dict = {}\n",
    "sliderdata_selected = \"JBG/EYA (block C)\"\n",
    "sliderdata_dict['office'] = cleaned_slider_data['D_Office'][val]\n",
    "                                                        "
   ]
  },
  {
   "cell_type": "code",
   "execution_count": 59,
   "metadata": {},
   "outputs": [
    {
     "data": {
      "text/plain": [
       "{'applicationName': 'JBG/EYA (block C)',\n",
       " 'hotel': 0,\n",
       " 'industry': 0,\n",
       " 'institution': 0,\n",
       " 'nonresidential': 443400,\n",
       " 'office': 259845,\n",
       " 'residential': 1341401,\n",
       " 'retail': 183555}"
      ]
     },
     "execution_count": 59,
     "metadata": {},
     "output_type": "execute_result"
    }
   ],
   "source": [
    "sliderdata_dict = {}\n",
    "# cleaned_slider_data.set_index(['APPLICATION_NAME'], inplace=True)\n",
    "\n",
    "sliderdata_dict['applicationName'] = sliderdata_selected\n",
    "sliderdata_dict['office'] = cleaned_slider_data['D_Office'][sliderdata_selected]\n",
    "sliderdata_dict['retail'] = cleaned_slider_data['D_Retail'][sliderdata_selected]\n",
    "sliderdata_dict['hotel'] = cleaned_slider_data['D_Hotel'][sliderdata_selected]\n",
    "sliderdata_dict['institution'] = cleaned_slider_data['D_Inst'][sliderdata_selected]\n",
    "sliderdata_dict['industry'] = cleaned_slider_data['D_Indus'][sliderdata_selected]\n",
    "sliderdata_dict['nonresidential'] = cleaned_slider_data['D_NonResGFA'][sliderdata_selected]\n",
    "sliderdata_dict['residential'] = cleaned_slider_data['D_ResGFA'][sliderdata_selected]\n",
    "\n",
    "sliderdata_dict"
   ]
  },
  {
   "cell_type": "code",
   "execution_count": 55,
   "metadata": {},
   "outputs": [
    {
     "data": {
      "text/plain": [
       "{'office': 259845}"
      ]
     },
     "execution_count": 55,
     "metadata": {},
     "output_type": "execute_result"
    }
   ],
   "source": [
    "sliderdata_dict"
   ]
  },
  {
   "cell_type": "code",
   "execution_count": 51,
   "metadata": {},
   "outputs": [],
   "source": [
    "final_list = []\n",
    "temp_dict = {}\n",
    "row = \"JBG/EYA (block C)\"\n",
    "\n"
   ]
  },
  {
   "cell_type": "code",
   "execution_count": 38,
   "metadata": {},
   "outputs": [
    {
     "ename": "TypeError",
     "evalue": "get_value() missing 1 required positional argument: 'label'",
     "output_type": "error",
     "traceback": [
      "\u001b[0;31m---------------------------------------------------------------------------\u001b[0m",
      "\u001b[0;31mTypeError\u001b[0m                                 Traceback (most recent call last)",
      "\u001b[0;32m<ipython-input-38-1a2c0d3cd610>\u001b[0m in \u001b[0;36m<module>\u001b[0;34m()\u001b[0m\n\u001b[0;32m----> 1\u001b[0;31m \u001b[0mfinal_list\u001b[0m\u001b[0;34m[\u001b[0m\u001b[0;36m0\u001b[0m\u001b[0;34m]\u001b[0m\u001b[0;34m[\u001b[0m\u001b[0;34m'office'\u001b[0m\u001b[0;34m]\u001b[0m\u001b[0;34m.\u001b[0m\u001b[0mget_value\u001b[0m\u001b[0;34m(\u001b[0m\u001b[0;34m)\u001b[0m\u001b[0;34m\u001b[0m\u001b[0m\n\u001b[0m",
      "\u001b[0;31mTypeError\u001b[0m: get_value() missing 1 required positional argument: 'label'"
     ]
    }
   ],
   "source": [
    "final_list[0]['office'].get_value()"
   ]
  },
  {
   "cell_type": "code",
   "execution_count": 29,
   "metadata": {
    "collapsed": true
   },
   "outputs": [],
   "source": [
    "def sliderdata(developmentplan):\n",
    "    sliderdata_dict = {}\n",
    "    \n",
    "    devplan_index = cleaned_slider_data.index[cleaned_slider_data['APPLICATION_NAME'] == developmentplan]\n",
    "    sliderdata_dict['applicationName'] = developmentplan\n",
    "    sliderdata_dict['office'] = cleaned_slider_data['D_Office'][devplan_index[0]]\n",
    "    sliderdata_dict['retail'] = cleaned_slider_data['D_Retail'][devplan_index[0]]\n",
    "    sliderdata_dict['hotel'] = cleaned_slider_data['D_Hotel'][devplan_index[0]]\n",
    "    sliderdata_dict['institution'] = cleaned_slider_data['D_Inst'][devplan_index[0]]\n",
    "    sliderdata_dict['industry'] = cleaned_slider_data['D_Indus'][devplan_index[0]]\n",
    "    sliderdata_dict['nonresidential'] = cleaned_slider_data['D_NonResGFA'][devplan_index[0]]\n",
    "    sliderdata_dict['residential'] = cleaned_slider_data['D_ResGFA'][devplan_index[0]]\n",
    "    \n",
    "    return sliderdata_dict"
   ]
  },
  {
   "cell_type": "code",
   "execution_count": null,
   "metadata": {
    "collapsed": true
   },
   "outputs": [],
   "source": []
  },
  {
   "cell_type": "code",
   "execution_count": 30,
   "metadata": {},
   "outputs": [
    {
     "data": {
      "text/plain": [
       "{'applicationName': 'JBG/EYA (block C)',\n",
       " 'hotel': 0,\n",
       " 'industry': 0,\n",
       " 'institution': 0,\n",
       " 'nonresidential': 443400,\n",
       " 'office': 259845,\n",
       " 'residential': 1341401,\n",
       " 'retail': 183555}"
      ]
     },
     "execution_count": 30,
     "metadata": {},
     "output_type": "execute_result"
    }
   ],
   "source": [
    "sliderdata('JBG/EYA (block C)')"
   ]
  },
  {
   "cell_type": "code",
   "execution_count": 45,
   "metadata": {},
   "outputs": [
    {
     "data": {
      "text/plain": [
       "{'applicationName': 'Association Drive',\n",
       " 'hotel': 0,\n",
       " 'industry': 0,\n",
       " 'institution': 97360,\n",
       " 'nonresidential': 529217,\n",
       " 'office': 225000,\n",
       " 'residential': 1540424,\n",
       " 'retail': 206857}"
      ]
     },
     "execution_count": 45,
     "metadata": {},
     "output_type": "execute_result"
    }
   ],
   "source": [
    "sliderdata_dict"
   ]
  },
  {
   "cell_type": "code",
   "execution_count": 40,
   "metadata": {},
   "outputs": [
    {
     "name": "stdout",
     "output_type": "stream",
     "text": [
      "1941 & 1950 Roland Clark Place\n",
      "JBG/EYA (block C)\n",
      "Association Drive\n",
      "Lowe 11493 Sunset Hills\n",
      "Boston Properties LP\n",
      "Brandywine Wood Oak\n",
      "Golf Course Overlook\n",
      "AAFMA\n",
      "RP 11111 Sunset Hills LLC\n",
      "Michael Faraday Partners\n",
      "CoreSite\n",
      "Linden\n",
      "Campus Commons\n",
      "Reston Crossing\n",
      "Reston Crescent\n",
      "Pulte Home Corporation\n",
      "Reston Town Center North\n",
      "JBG Reston Executive Center (RTC West)\n",
      "Reston Corner\n"
     ]
    },
    {
     "data": {
      "text/plain": [
       "['1941 & 1950 Roland Clark Place',\n",
       " 'JBG/EYA (block C)',\n",
       " 'Association Drive',\n",
       " 'Lowe 11493 Sunset Hills',\n",
       " 'Boston Properties LP',\n",
       " 'Brandywine Wood Oak',\n",
       " 'Golf Course Overlook',\n",
       " 'AAFMA',\n",
       " 'RP 11111 Sunset Hills LLC',\n",
       " 'Michael Faraday Partners',\n",
       " 'CoreSite',\n",
       " 'Linden',\n",
       " 'Campus Commons',\n",
       " 'Reston Crossing',\n",
       " 'Reston Crescent',\n",
       " 'Pulte Home Corporation',\n",
       " 'Reston Town Center North',\n",
       " 'JBG Reston Executive Center (RTC West)',\n",
       " 'Reston Corner']"
      ]
     },
     "execution_count": 40,
     "metadata": {},
     "output_type": "execute_result"
    }
   ],
   "source": [
    "sliderDropdownList = []\n",
    "for row in range(len(cleaned_slider_data.APPLICATION_NAME)):\n",
    "    print(cleaned_slider_data.APPLICATION_NAME[row])\n",
    "    sliderDropdownList.append(cleaned_slider_data.APPLICATION_NAME[row])\n",
    "sliderDropdownList"
   ]
  },
  {
   "cell_type": "code",
   "execution_count": null,
   "metadata": {
    "collapsed": true
   },
   "outputs": [],
   "source": []
  },
  {
   "cell_type": "code",
   "execution_count": 18,
   "metadata": {},
   "outputs": [
    {
     "name": "stdout",
     "output_type": "stream",
     "text": [
      "1941 & 1950 Roland Clark Place\n",
      "JBG/EYA (block C)\n",
      "Association Drive\n",
      "Lowe 11493 Sunset Hills\n",
      "Boston Properties LP\n",
      "Brandywine Wood Oak\n",
      "Golf Course Overlook\n",
      "AAFMA\n",
      "RP 11111 Sunset Hills LLC\n",
      "Michael Faraday Partners\n",
      "CoreSite\n",
      "Linden\n",
      "Campus Commons\n",
      "Reston Crossing\n",
      "Reston Crescent\n",
      "Pulte Home Corporation\n",
      "Reston Town Center North\n",
      "JBG Reston Executive Center (RTC West)\n",
      "Reston Corner\n"
     ]
    }
   ],
   "source": [
    "silderData_dict = {}\n",
    "\n",
    "for row in range(len(cleaned_slider_data.APPLICATION_NAME)):\n",
    "    print(cleaned_slider_data.APPLICATION_NAME[row])\n",
    "    \n",
    "    "
   ]
  },
  {
   "cell_type": "code",
   "execution_count": 10,
   "metadata": {},
   "outputs": [
    {
     "data": {
      "text/plain": [
       "Int64Index([3], dtype='int64')"
      ]
     },
     "execution_count": 10,
     "metadata": {},
     "output_type": "execute_result"
    }
   ],
   "source": [
    "idx = cleaned_slider_data.index[cleaned_slider_data['APPLICATION_NAME'] == \"Lowe 11493 Sunset Hills\"]\n",
    "idx\n",
    "# idx[0]"
   ]
  },
  {
   "cell_type": "code",
   "execution_count": 26,
   "metadata": {},
   "outputs": [
    {
     "data": {
      "text/plain": [
       "3    616884\n",
       "Name: D_TOTALS, dtype: int64"
      ]
     },
     "execution_count": 26,
     "metadata": {},
     "output_type": "execute_result"
    }
   ],
   "source": [
    "value = cleaned_slider_data['D_TOTALS'][idx]\n",
    "value"
   ]
  },
  {
   "cell_type": "code",
   "execution_count": 18,
   "metadata": {},
   "outputs": [
    {
     "name": "stdout",
     "output_type": "stream",
     "text": [
      "616884\n"
     ]
    }
   ],
   "source": [
    "real_val = 0\n",
    "for x in value:\n",
    "    print(x)\n",
    "    real_val = x"
   ]
  },
  {
   "cell_type": "code",
   "execution_count": 22,
   "metadata": {},
   "outputs": [
    {
     "data": {
      "text/plain": [
       "616884"
      ]
     },
     "execution_count": 22,
     "metadata": {},
     "output_type": "execute_result"
    }
   ],
   "source": [
    "real_val"
   ]
  },
  {
   "cell_type": "code",
   "execution_count": 6,
   "metadata": {
    "collapsed": true
   },
   "outputs": [],
   "source": [
    "data = data.sort_values('TSA')"
   ]
  },
  {
   "cell_type": "code",
   "execution_count": 7,
   "metadata": {
    "collapsed": true
   },
   "outputs": [],
   "source": [
    "data_selectlist = data[['TSA','Dis_SubDis', 'LUCategory']]"
   ]
  },
  {
   "cell_type": "code",
   "execution_count": 8,
   "metadata": {
    "collapsed": true
   },
   "outputs": [],
   "source": [
    "data_selectlist.reset_index(inplace=True, drop=True)"
   ]
  },
  {
   "cell_type": "code",
   "execution_count": 16,
   "metadata": {},
   "outputs": [
    {
     "data": {
      "text/html": [
       "<div>\n",
       "<style>\n",
       "    .dataframe thead tr:only-child th {\n",
       "        text-align: right;\n",
       "    }\n",
       "\n",
       "    .dataframe thead th {\n",
       "        text-align: left;\n",
       "    }\n",
       "\n",
       "    .dataframe tbody tr th {\n",
       "        vertical-align: top;\n",
       "    }\n",
       "</style>\n",
       "<table border=\"1\" class=\"dataframe\">\n",
       "  <thead>\n",
       "    <tr style=\"text-align: right;\">\n",
       "      <th></th>\n",
       "      <th>TSA</th>\n",
       "      <th>Dis_SubDis</th>\n",
       "      <th>LUCategory</th>\n",
       "    </tr>\n",
       "  </thead>\n",
       "  <tbody>\n",
       "    <tr>\n",
       "      <th>0</th>\n",
       "      <td>Herndon TSA</td>\n",
       "      <td>Herndon Station</td>\n",
       "      <td>Residential Mixed Use</td>\n",
       "    </tr>\n",
       "    <tr>\n",
       "      <th>1</th>\n",
       "      <td>Herndon TSA</td>\n",
       "      <td>Great Oak</td>\n",
       "      <td>Residential</td>\n",
       "    </tr>\n",
       "    <tr>\n",
       "      <th>2</th>\n",
       "      <td>Herndon TSA</td>\n",
       "      <td>Woodland Park</td>\n",
       "      <td>Mixed Use</td>\n",
       "    </tr>\n",
       "    <tr>\n",
       "      <th>3</th>\n",
       "      <td>Herndon TSA</td>\n",
       "      <td>Herndon Station</td>\n",
       "      <td>Transit Station Mixed Use</td>\n",
       "    </tr>\n",
       "    <tr>\n",
       "      <th>4</th>\n",
       "      <td>Reston Town Center TSA</td>\n",
       "      <td>Central Sunrise Valley</td>\n",
       "      <td>Government / Institutional</td>\n",
       "    </tr>\n",
       "    <tr>\n",
       "      <th>5</th>\n",
       "      <td>Reston Town Center TSA</td>\n",
       "      <td>Reston Town Center Station North</td>\n",
       "      <td>Residential Mixed Use</td>\n",
       "    </tr>\n",
       "    <tr>\n",
       "      <th>6</th>\n",
       "      <td>Reston Town Center TSA</td>\n",
       "      <td>Town Center Urban Core</td>\n",
       "      <td>Town Center Urban Core Mixed Use</td>\n",
       "    </tr>\n",
       "    <tr>\n",
       "      <th>7</th>\n",
       "      <td>Reston Town Center TSA</td>\n",
       "      <td>Central Sunrise Valley</td>\n",
       "      <td>Office</td>\n",
       "    </tr>\n",
       "    <tr>\n",
       "      <th>8</th>\n",
       "      <td>Reston Town Center TSA</td>\n",
       "      <td>West Fountain Drive</td>\n",
       "      <td>Mixed Use</td>\n",
       "    </tr>\n",
       "    <tr>\n",
       "      <th>9</th>\n",
       "      <td>Reston Town Center TSA</td>\n",
       "      <td>Town Center West</td>\n",
       "      <td>Mixed Use</td>\n",
       "    </tr>\n",
       "    <tr>\n",
       "      <th>10</th>\n",
       "      <td>Reston Town Center TSA</td>\n",
       "      <td>Town Center Urban Core</td>\n",
       "      <td>Mixed Use</td>\n",
       "    </tr>\n",
       "    <tr>\n",
       "      <th>11</th>\n",
       "      <td>Reston Town Center TSA</td>\n",
       "      <td>Reston Heights</td>\n",
       "      <td>Mixed Use</td>\n",
       "    </tr>\n",
       "    <tr>\n",
       "      <th>12</th>\n",
       "      <td>Reston Town Center TSA</td>\n",
       "      <td>Old Reston Avenue</td>\n",
       "      <td>Mixed Use</td>\n",
       "    </tr>\n",
       "    <tr>\n",
       "      <th>13</th>\n",
       "      <td>Reston Town Center TSA</td>\n",
       "      <td>East Fountain Drive</td>\n",
       "      <td>Mixed Use</td>\n",
       "    </tr>\n",
       "    <tr>\n",
       "      <th>14</th>\n",
       "      <td>Reston Town Center TSA</td>\n",
       "      <td>Central Sunrise Valley</td>\n",
       "      <td>Industrial</td>\n",
       "    </tr>\n",
       "    <tr>\n",
       "      <th>15</th>\n",
       "      <td>Reston Town Center TSA</td>\n",
       "      <td>Reston Town Center Station North</td>\n",
       "      <td>Transit Station Mixed Use</td>\n",
       "    </tr>\n",
       "    <tr>\n",
       "      <th>16</th>\n",
       "      <td>Reston Town Center TSA</td>\n",
       "      <td>Reston Town Center Station South</td>\n",
       "      <td>Transit Station Mixed Use</td>\n",
       "    </tr>\n",
       "    <tr>\n",
       "      <th>17</th>\n",
       "      <td>Reston Town Center TSA</td>\n",
       "      <td>Reston Town Center Station South</td>\n",
       "      <td>Residential Mixed Use</td>\n",
       "    </tr>\n",
       "    <tr>\n",
       "      <th>18</th>\n",
       "      <td>Reston Town Center TSA</td>\n",
       "      <td>West Fountain Drive</td>\n",
       "      <td>Town Center North Mixed Use</td>\n",
       "    </tr>\n",
       "    <tr>\n",
       "      <th>19</th>\n",
       "      <td>Wiehle-Reston East TSA</td>\n",
       "      <td>Reston East</td>\n",
       "      <td>Office</td>\n",
       "    </tr>\n",
       "    <tr>\n",
       "      <th>20</th>\n",
       "      <td>Wiehle-Reston East TSA</td>\n",
       "      <td>Wiehle Station North</td>\n",
       "      <td>Residential Mixed Use</td>\n",
       "    </tr>\n",
       "    <tr>\n",
       "      <th>21</th>\n",
       "      <td>Wiehle-Reston East TSA</td>\n",
       "      <td>Wiehle Station North</td>\n",
       "      <td>Transit Station Mixed Use</td>\n",
       "    </tr>\n",
       "    <tr>\n",
       "      <th>22</th>\n",
       "      <td>Wiehle-Reston East TSA</td>\n",
       "      <td>Sunset Hills</td>\n",
       "      <td>Mixed Use</td>\n",
       "    </tr>\n",
       "    <tr>\n",
       "      <th>23</th>\n",
       "      <td>Wiehle-Reston East TSA</td>\n",
       "      <td>Wiehle Station North</td>\n",
       "      <td>Government / Institutional</td>\n",
       "    </tr>\n",
       "    <tr>\n",
       "      <th>24</th>\n",
       "      <td>Wiehle-Reston East TSA</td>\n",
       "      <td>Reston East</td>\n",
       "      <td>Government / Institutional</td>\n",
       "    </tr>\n",
       "    <tr>\n",
       "      <th>25</th>\n",
       "      <td>Wiehle-Reston East TSA</td>\n",
       "      <td>Wiehle Station South</td>\n",
       "      <td>Residential Mixed Use</td>\n",
       "    </tr>\n",
       "    <tr>\n",
       "      <th>26</th>\n",
       "      <td>Wiehle-Reston East TSA</td>\n",
       "      <td>Wiehle Station South</td>\n",
       "      <td>Transit Station Mixed Use</td>\n",
       "    </tr>\n",
       "  </tbody>\n",
       "</table>\n",
       "</div>"
      ],
      "text/plain": [
       "                       TSA                        Dis_SubDis  \\\n",
       "0              Herndon TSA                   Herndon Station   \n",
       "1              Herndon TSA                         Great Oak   \n",
       "2              Herndon TSA                     Woodland Park   \n",
       "3              Herndon TSA                   Herndon Station   \n",
       "4   Reston Town Center TSA            Central Sunrise Valley   \n",
       "5   Reston Town Center TSA  Reston Town Center Station North   \n",
       "6   Reston Town Center TSA            Town Center Urban Core   \n",
       "7   Reston Town Center TSA            Central Sunrise Valley   \n",
       "8   Reston Town Center TSA               West Fountain Drive   \n",
       "9   Reston Town Center TSA                  Town Center West   \n",
       "10  Reston Town Center TSA            Town Center Urban Core   \n",
       "11  Reston Town Center TSA                    Reston Heights   \n",
       "12  Reston Town Center TSA                 Old Reston Avenue   \n",
       "13  Reston Town Center TSA               East Fountain Drive   \n",
       "14  Reston Town Center TSA            Central Sunrise Valley   \n",
       "15  Reston Town Center TSA  Reston Town Center Station North   \n",
       "16  Reston Town Center TSA  Reston Town Center Station South   \n",
       "17  Reston Town Center TSA  Reston Town Center Station South   \n",
       "18  Reston Town Center TSA               West Fountain Drive   \n",
       "19  Wiehle-Reston East TSA                       Reston East   \n",
       "20  Wiehle-Reston East TSA              Wiehle Station North   \n",
       "21  Wiehle-Reston East TSA              Wiehle Station North   \n",
       "22  Wiehle-Reston East TSA                      Sunset Hills   \n",
       "23  Wiehle-Reston East TSA              Wiehle Station North   \n",
       "24  Wiehle-Reston East TSA                       Reston East   \n",
       "25  Wiehle-Reston East TSA              Wiehle Station South   \n",
       "26  Wiehle-Reston East TSA              Wiehle Station South   \n",
       "\n",
       "                          LUCategory  \n",
       "0              Residential Mixed Use  \n",
       "1                        Residential  \n",
       "2                          Mixed Use  \n",
       "3          Transit Station Mixed Use  \n",
       "4         Government / Institutional  \n",
       "5              Residential Mixed Use  \n",
       "6   Town Center Urban Core Mixed Use  \n",
       "7                             Office  \n",
       "8                          Mixed Use  \n",
       "9                          Mixed Use  \n",
       "10                         Mixed Use  \n",
       "11                         Mixed Use  \n",
       "12                         Mixed Use  \n",
       "13                         Mixed Use  \n",
       "14                        Industrial  \n",
       "15         Transit Station Mixed Use  \n",
       "16         Transit Station Mixed Use  \n",
       "17             Residential Mixed Use  \n",
       "18       Town Center North Mixed Use  \n",
       "19                            Office  \n",
       "20             Residential Mixed Use  \n",
       "21         Transit Station Mixed Use  \n",
       "22                         Mixed Use  \n",
       "23        Government / Institutional  \n",
       "24        Government / Institutional  \n",
       "25             Residential Mixed Use  \n",
       "26         Transit Station Mixed Use  "
      ]
     },
     "execution_count": 16,
     "metadata": {},
     "output_type": "execute_result"
    }
   ],
   "source": [
    "data_selectlist"
   ]
  },
  {
   "cell_type": "code",
   "execution_count": 17,
   "metadata": {},
   "outputs": [
    {
     "data": {
      "text/plain": [
       "27"
      ]
     },
     "execution_count": 17,
     "metadata": {},
     "output_type": "execute_result"
    }
   ],
   "source": [
    "len(data_selectlist)"
   ]
  },
  {
   "cell_type": "code",
   "execution_count": 18,
   "metadata": {
    "collapsed": true
   },
   "outputs": [],
   "source": [
    "#  df.loc[df['B'] == 3, 'A'].iloc[0]\n",
    "\n",
    "initial_val = \"Herndon TSA\"\n",
    "district_list = []\n",
    "landuse_list = []\n",
    "final_list = {}\n",
    "final_list['district'] = []\n",
    "final_list['landuse'] = []\n",
    "\n",
    "for row1 in range(len(data_selectlist.TSA)):\n",
    "    if data_selectlist.TSA[row1] == initial_val:\n",
    "        if data_selectlist.Dis_SubDis[row1] not in district_list:\n",
    "            district_list.append(data_selectlist.Dis_SubDis[row1])\n",
    "        if data_selectlist.LUCategory[row1] not in landuse_list:\n",
    "            landuse_list.append(data_selectlist.LUCategory[row1])\n",
    "    \n",
    "    else:\n",
    "        final_list['district'].append(district_list)\n",
    "        final_list['landuse'].append(landuse_list)        \n",
    "        initial_val = data_selectlist.TSA[row1]\n",
    "        district_list = []\n",
    "        landuse_list = []\n",
    "final_list['district'].append(district_list) \n",
    "final_list['landuse'].append(landuse_list)\n",
    "\n",
    "select_list = [{\"Herndon TSA\":{\"district\":final_list['district'][0],\"landuse\":final_list['landuse'][0]},\n",
    "            \"Reston Town Center TSA\":{\"district\":final_list['district'][1],\"landuse\":final_list['landuse'][1]},\n",
    "            \"Wiehle-Reston East TSA\":{\"district\":final_list['district'][2],\"landuse\":final_list['landuse'][2]}}]\n",
    "\n"
   ]
  },
  {
   "cell_type": "code",
   "execution_count": 19,
   "metadata": {
    "scrolled": true
   },
   "outputs": [
    {
     "data": {
      "text/plain": [
       "[{'Herndon TSA': {'district': ['Herndon Station',\n",
       "    'Great Oak',\n",
       "    'Woodland Park'],\n",
       "   'landuse': ['Residential Mixed Use',\n",
       "    'Residential',\n",
       "    'Mixed Use',\n",
       "    'Transit Station Mixed Use']},\n",
       "  'Reston Town Center TSA': {'district': ['Reston Town Center Station North',\n",
       "    'Town Center Urban Core',\n",
       "    'Central Sunrise Valley',\n",
       "    'West Fountain Drive',\n",
       "    'Town Center West',\n",
       "    'Reston Heights',\n",
       "    'Old Reston Avenue',\n",
       "    'East Fountain Drive',\n",
       "    'Reston Town Center Station South'],\n",
       "   'landuse': ['Residential Mixed Use',\n",
       "    'Town Center Urban Core Mixed Use',\n",
       "    'Office',\n",
       "    'Mixed Use',\n",
       "    'Industrial',\n",
       "    'Transit Station Mixed Use',\n",
       "    'Town Center North Mixed Use']},\n",
       "  'Wiehle-Reston East TSA': {'district': ['Wiehle Station North',\n",
       "    'Sunset Hills',\n",
       "    'Reston East',\n",
       "    'Wiehle Station South'],\n",
       "   'landuse': ['Residential Mixed Use',\n",
       "    'Transit Station Mixed Use',\n",
       "    'Mixed Use',\n",
       "    'Government / Institutional']}}]"
      ]
     },
     "execution_count": 19,
     "metadata": {},
     "output_type": "execute_result"
    }
   ],
   "source": [
    "select_list"
   ]
  },
  {
   "cell_type": "code",
   "execution_count": 21,
   "metadata": {},
   "outputs": [
    {
     "data": {
      "text/plain": [
       "'Herndon Station'"
      ]
     },
     "execution_count": 21,
     "metadata": {},
     "output_type": "execute_result"
    }
   ],
   "source": [
    "select_list[0]['Herndon TSA']['district'][0]"
   ]
  },
  {
   "cell_type": "code",
   "execution_count": 22,
   "metadata": {},
   "outputs": [
    {
     "data": {
      "text/plain": [
       "27"
      ]
     },
     "execution_count": 22,
     "metadata": {},
     "output_type": "execute_result"
    }
   ],
   "source": [
    "len(data_selectlist.TSA)"
   ]
  },
  {
   "cell_type": "code",
   "execution_count": null,
   "metadata": {
    "collapsed": true
   },
   "outputs": [],
   "source": [
    "dist"
   ]
  },
  {
   "cell_type": "code",
   "execution_count": null,
   "metadata": {
    "collapsed": true
   },
   "outputs": [],
   "source": [
    "final_dist['district'][0]"
   ]
  },
  {
   "cell_type": "code",
   "execution_count": null,
   "metadata": {
    "collapsed": true
   },
   "outputs": [],
   "source": [
    "final_landuse"
   ]
  },
  {
   "cell_type": "code",
   "execution_count": null,
   "metadata": {
    "collapsed": true
   },
   "outputs": [],
   "source": [
    "column = data_selectlist['TSA'][0]\n",
    "district=[]\n",
    "final_list = []\n",
    "for rowindex in range(len(data_selectlist['TSA'])):\n",
    "    print(rowindex)\n",
    "    if data_selectlist['TSA'][rowindex] == column:\n",
    "        district_list = data_selectlist['Dis_SubDis'][rowindex]\n",
    "        district.append(district_list)\n",
    "    else:\n",
    "        final_list.append(district)\n",
    "        column = data_selectlist['TSA'][rowindex]\n",
    "        print(column)\n",
    "#         district['district']=[]\n",
    "        district = []\n",
    "final_list"
   ]
  },
  {
   "cell_type": "code",
   "execution_count": null,
   "metadata": {
    "collapsed": true
   },
   "outputs": [],
   "source": [
    "district_list = {}\n",
    "district_list[\"district\"] = []\n",
    "landuse_list = {}\n",
    "landuse_list[\"landuse\"] = []\n",
    "\n",
    "# lu_list = {}\n",
    "# lu_list[\"district\"] = []\n",
    "# lu_list[\"district\"] = []\n",
    "\n",
    "selectlist_dict = {}\n",
    "\n",
    "tsa = data_selectlist['TSA'][0]\n",
    "print(tsa)\n",
    "for rowindex in range(len(data_selectlist)):\n",
    "    print(rowindex)\n",
    "#     for x in data_selectlist.Dis_SubDis:\n",
    "    if data_selectlist.TSA[rowindex] == tsa:\n",
    "        if data_selectlist.Dis_SubDis[rowindex] not in district_list[\"district\"]:\n",
    "            district_list[\"district\"].append(data_selectlist.Dis_SubDis[rowindex])\n",
    "#     else:\n",
    "#         selectlist_dict[tsa] = [district_list]\n",
    "#         tsa = row\n",
    "#         district_list[\"district\"] = []\n",
    "#             landuse_list[\"landuse\"] = []\n",
    "#     for y in data_selectlist.LUCategory:\n",
    "#         if row == tsa:\n",
    "#         if data_selectlist.LUCategory[rowindex] not in landuse_list[\"landuse\"]:\n",
    "#             landuse_list[\"landuse\"].append(data_selectlist.LUCategory[rowindex])\n",
    "        else:\n",
    "            selectlist_dict[tsa] = district_list\n",
    "            print(selectlist_dict)\n",
    "            district_list[\"district\"] = []\n",
    "    tsa = data_selectlist['TSA'][rowindex]\n",
    "#     rowindex +=1\n",
    "#     landuse_list[\"landuse\"] = []\n",
    "#lu_list   "
   ]
  },
  {
   "cell_type": "code",
   "execution_count": null,
   "metadata": {
    "collapsed": true
   },
   "outputs": [],
   "source": [
    "selectlist_dict"
   ]
  },
  {
   "cell_type": "code",
   "execution_count": null,
   "metadata": {
    "collapsed": true
   },
   "outputs": [],
   "source": [
    " data_selectlist['TSA']"
   ]
  },
  {
   "cell_type": "code",
   "execution_count": null,
   "metadata": {
    "collapsed": true
   },
   "outputs": [],
   "source": []
  },
  {
   "cell_type": "code",
   "execution_count": null,
   "metadata": {
    "collapsed": true
   },
   "outputs": [],
   "source": [
    "def get_select_list():\n",
    "    data = pd.read_csv(\"resources/data/summaryData.csv\")\n",
    "    data = data.sort_values('TSA')\n",
    "    data_selectlist = data[['TSA','Dis_SubDis', 'LUCategory']]\n",
    "    data_selectlist.reset_index(inplace=True, drop=True)\n",
    "    district_list = {}\n",
    "    district_list[\"district\"] = []\n",
    "    landuse_list = {}\n",
    "    landuse_list[\"landuse\"] = []\n",
    "    selectlist_dict = {}\n",
    "\n",
    "    tsa = data_selectlist['TSA'][0]\n",
    "    print(tsa)\n",
    "    for row in data_selectlist.TSA:\n",
    "        if row == tsa:\n",
    "            for x in data_selectlist.Dis_SubDis:\n",
    "                if x not in district_list[\"district\"]:\n",
    "                    district_list[\"district\"].append(x)\n",
    "            for y in data_selectlist.LUCategory:\n",
    "                if y not in landuse_list[\"landuse\"]:\n",
    "                    landuse_list[\"landuse\"].append(y)\n",
    "        else:\n",
    "            selectlist_dict[tsa] = [district_list, landuse_list]\n",
    "            tsa = row\n",
    "            print(tsa)\n",
    "    return selectlist_dict"
   ]
  },
  {
   "cell_type": "code",
   "execution_count": null,
   "metadata": {
    "collapsed": true
   },
   "outputs": [],
   "source": [
    "get_select_list()"
   ]
  },
  {
   "cell_type": "code",
   "execution_count": null,
   "metadata": {
    "collapsed": true
   },
   "outputs": [],
   "source": []
  }
 ],
 "metadata": {
  "kernelspec": {
   "display_name": "pythondata_3",
   "language": "python",
   "name": "pythondata_3"
  },
  "language_info": {
   "codemirror_mode": {
    "name": "ipython",
    "version": 3
   },
   "file_extension": ".py",
   "mimetype": "text/x-python",
   "name": "python",
   "nbconvert_exporter": "python",
   "pygments_lexer": "ipython3",
   "version": "3.6.3"
  }
 },
 "nbformat": 4,
 "nbformat_minor": 2
}
