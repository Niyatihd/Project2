{
 "cells": [
  {
   "cell_type": "code",
   "execution_count": 2,
   "metadata": {
    "collapsed": true
   },
   "outputs": [],
   "source": [
    "import pandas as pd"
   ]
  },
  {
   "cell_type": "code",
   "execution_count": 4,
   "metadata": {},
   "outputs": [
    {
     "data": {
      "text/html": [
       "<div>\n",
       "<style>\n",
       "    .dataframe thead tr:only-child th {\n",
       "        text-align: right;\n",
       "    }\n",
       "\n",
       "    .dataframe thead th {\n",
       "        text-align: left;\n",
       "    }\n",
       "\n",
       "    .dataframe tbody tr th {\n",
       "        vertical-align: top;\n",
       "    }\n",
       "</style>\n",
       "<table border=\"1\" class=\"dataframe\">\n",
       "  <thead>\n",
       "    <tr style=\"text-align: right;\">\n",
       "      <th></th>\n",
       "      <th>OBJECTID</th>\n",
       "      <th>APPLICATION_NAME</th>\n",
       "      <th>APPLICATION</th>\n",
       "      <th>STATUS</th>\n",
       "      <th>LDS_STATUS</th>\n",
       "      <th>FAR</th>\n",
       "      <th>NUM_OF_BUI</th>\n",
       "      <th>OptionType</th>\n",
       "      <th>D_TOTALS</th>\n",
       "      <th>D_Office</th>\n",
       "      <th>...</th>\n",
       "      <th>D_ResGFA</th>\n",
       "      <th>D_ResDU</th>\n",
       "      <th>Ex_Office</th>\n",
       "      <th>Ex_Retail</th>\n",
       "      <th>Ex_Hotel</th>\n",
       "      <th>Ex_Inst</th>\n",
       "      <th>Ex_Indus</th>\n",
       "      <th>Ex_NonRes</th>\n",
       "      <th>Ex_ResGFA</th>\n",
       "      <th>Ex_ResDu</th>\n",
       "    </tr>\n",
       "  </thead>\n",
       "  <tbody>\n",
       "    <tr>\n",
       "      <th>0</th>\n",
       "      <td>1</td>\n",
       "      <td>1941 &amp; 1950 Roland Clark Place</td>\n",
       "      <td>DPA HM-117-03</td>\n",
       "      <td>CDP Proposed</td>\n",
       "      <td>UNDER REVIEW</td>\n",
       "      <td>2.3</td>\n",
       "      <td>2</td>\n",
       "      <td>No</td>\n",
       "      <td>744418</td>\n",
       "      <td>0</td>\n",
       "      <td>...</td>\n",
       "      <td>744418</td>\n",
       "      <td>699</td>\n",
       "      <td>116997</td>\n",
       "      <td>0</td>\n",
       "      <td>0</td>\n",
       "      <td>0</td>\n",
       "      <td>0</td>\n",
       "      <td>116997</td>\n",
       "      <td>0</td>\n",
       "      <td>0</td>\n",
       "    </tr>\n",
       "    <tr>\n",
       "      <th>1</th>\n",
       "      <td>2</td>\n",
       "      <td>JBG/EYA (block C)</td>\n",
       "      <td>RZ 2016-HM-024</td>\n",
       "      <td>FDP Proposed</td>\n",
       "      <td>UNDER REVIEW</td>\n",
       "      <td>2.2</td>\n",
       "      <td>8</td>\n",
       "      <td>MaxRes</td>\n",
       "      <td>1784801</td>\n",
       "      <td>259845</td>\n",
       "      <td>...</td>\n",
       "      <td>1341401</td>\n",
       "      <td>1017</td>\n",
       "      <td>303857</td>\n",
       "      <td>0</td>\n",
       "      <td>0</td>\n",
       "      <td>0</td>\n",
       "      <td>0</td>\n",
       "      <td>303857</td>\n",
       "      <td>0</td>\n",
       "      <td>0</td>\n",
       "    </tr>\n",
       "    <tr>\n",
       "      <th>2</th>\n",
       "      <td>3</td>\n",
       "      <td>Association Drive</td>\n",
       "      <td>Association Drive</td>\n",
       "      <td>Pre-App</td>\n",
       "      <td>PREAPP ACTIVE</td>\n",
       "      <td>1.5</td>\n",
       "      <td>7</td>\n",
       "      <td>No</td>\n",
       "      <td>2069641</td>\n",
       "      <td>225000</td>\n",
       "      <td>...</td>\n",
       "      <td>1540424</td>\n",
       "      <td>1147</td>\n",
       "      <td>211853</td>\n",
       "      <td>0</td>\n",
       "      <td>0</td>\n",
       "      <td>0</td>\n",
       "      <td>0</td>\n",
       "      <td>211853</td>\n",
       "      <td>0</td>\n",
       "      <td>0</td>\n",
       "    </tr>\n",
       "    <tr>\n",
       "      <th>3</th>\n",
       "      <td>4</td>\n",
       "      <td>Lowe 11493 Sunset Hills</td>\n",
       "      <td>Lowe 11493 Sunset Hills</td>\n",
       "      <td>Pre-App</td>\n",
       "      <td>PREAPP ACTIVE</td>\n",
       "      <td>1.5</td>\n",
       "      <td>3</td>\n",
       "      <td>No</td>\n",
       "      <td>616884</td>\n",
       "      <td>260000</td>\n",
       "      <td>...</td>\n",
       "      <td>326884</td>\n",
       "      <td>800</td>\n",
       "      <td>181392</td>\n",
       "      <td>0</td>\n",
       "      <td>0</td>\n",
       "      <td>0</td>\n",
       "      <td>0</td>\n",
       "      <td>181392</td>\n",
       "      <td>0</td>\n",
       "      <td>0</td>\n",
       "    </tr>\n",
       "    <tr>\n",
       "      <th>4</th>\n",
       "      <td>5</td>\n",
       "      <td>Boston Properties LP</td>\n",
       "      <td>PCA 86-C-119-07</td>\n",
       "      <td>FDP Proposed</td>\n",
       "      <td>ACCEPTED</td>\n",
       "      <td>3.2</td>\n",
       "      <td>11</td>\n",
       "      <td>No</td>\n",
       "      <td>4843600</td>\n",
       "      <td>2234000</td>\n",
       "      <td>...</td>\n",
       "      <td>1938000</td>\n",
       "      <td>2010</td>\n",
       "      <td>662943</td>\n",
       "      <td>0</td>\n",
       "      <td>0</td>\n",
       "      <td>0</td>\n",
       "      <td>0</td>\n",
       "      <td>662943</td>\n",
       "      <td>0</td>\n",
       "      <td>0</td>\n",
       "    </tr>\n",
       "  </tbody>\n",
       "</table>\n",
       "<p>5 rows × 25 columns</p>\n",
       "</div>"
      ],
      "text/plain": [
       "   OBJECTID                APPLICATION_NAME              APPLICATION  \\\n",
       "0         1  1941 & 1950 Roland Clark Place            DPA HM-117-03   \n",
       "1         2               JBG/EYA (block C)           RZ 2016-HM-024   \n",
       "2         3               Association Drive        Association Drive   \n",
       "3         4         Lowe 11493 Sunset Hills  Lowe 11493 Sunset Hills   \n",
       "4         5            Boston Properties LP          PCA 86-C-119-07   \n",
       "\n",
       "         STATUS     LDS_STATUS  FAR  NUM_OF_BUI OptionType  D_TOTALS  \\\n",
       "0  CDP Proposed   UNDER REVIEW  2.3           2         No    744418   \n",
       "1  FDP Proposed   UNDER REVIEW  2.2           8     MaxRes   1784801   \n",
       "2       Pre-App  PREAPP ACTIVE  1.5           7         No   2069641   \n",
       "3       Pre-App  PREAPP ACTIVE  1.5           3         No    616884   \n",
       "4  FDP Proposed       ACCEPTED  3.2          11         No   4843600   \n",
       "\n",
       "   D_Office    ...     D_ResGFA  D_ResDU  Ex_Office  Ex_Retail  Ex_Hotel  \\\n",
       "0         0    ...       744418      699     116997          0         0   \n",
       "1    259845    ...      1341401     1017     303857          0         0   \n",
       "2    225000    ...      1540424     1147     211853          0         0   \n",
       "3    260000    ...       326884      800     181392          0         0   \n",
       "4   2234000    ...      1938000     2010     662943          0         0   \n",
       "\n",
       "   Ex_Inst  Ex_Indus  Ex_NonRes  Ex_ResGFA  Ex_ResDu  \n",
       "0        0         0     116997          0         0  \n",
       "1        0         0     303857          0         0  \n",
       "2        0         0     211853          0         0  \n",
       "3        0         0     181392          0         0  \n",
       "4        0         0     662943          0         0  \n",
       "\n",
       "[5 rows x 25 columns]"
      ]
     },
     "execution_count": 4,
     "metadata": {},
     "output_type": "execute_result"
    }
   ],
   "source": [
    "data = pd.read_csv(\"static/resources/data/sliderdataclean.csv\")\n",
    "data.head()\n"
   ]
  },
  {
   "cell_type": "code",
   "execution_count": 8,
   "metadata": {
    "collapsed": true
   },
   "outputs": [],
   "source": [
    "cleaned_slider_data = data[['APPLICATION_NAME','APPLICATION','D_TOTALS','D_Office','D_Retail','D_Hotel',\n",
    "                     'D_Inst','D_Indus','D_NonResGFA']]"
   ]
  },
  {
   "cell_type": "code",
   "execution_count": 14,
   "metadata": {},
   "outputs": [
    {
     "data": {
      "text/html": [
       "<div>\n",
       "<style>\n",
       "    .dataframe thead tr:only-child th {\n",
       "        text-align: right;\n",
       "    }\n",
       "\n",
       "    .dataframe thead th {\n",
       "        text-align: left;\n",
       "    }\n",
       "\n",
       "    .dataframe tbody tr th {\n",
       "        vertical-align: top;\n",
       "    }\n",
       "</style>\n",
       "<table border=\"1\" class=\"dataframe\">\n",
       "  <thead>\n",
       "    <tr style=\"text-align: right;\">\n",
       "      <th></th>\n",
       "      <th>APPLICATION_NAME</th>\n",
       "      <th>APPLICATION</th>\n",
       "      <th>D_TOTALS</th>\n",
       "      <th>D_Office</th>\n",
       "      <th>D_Retail</th>\n",
       "      <th>D_Hotel</th>\n",
       "      <th>D_Inst</th>\n",
       "      <th>D_Indus</th>\n",
       "      <th>D_NonResGFA</th>\n",
       "    </tr>\n",
       "  </thead>\n",
       "  <tbody>\n",
       "    <tr>\n",
       "      <th>0</th>\n",
       "      <td>1941 &amp; 1950 Roland Clark Place</td>\n",
       "      <td>DPA HM-117-03</td>\n",
       "      <td>744418</td>\n",
       "      <td>0</td>\n",
       "      <td>0</td>\n",
       "      <td>0</td>\n",
       "      <td>0</td>\n",
       "      <td>0</td>\n",
       "      <td>0</td>\n",
       "    </tr>\n",
       "    <tr>\n",
       "      <th>1</th>\n",
       "      <td>JBG/EYA (block C)</td>\n",
       "      <td>RZ 2016-HM-024</td>\n",
       "      <td>1784801</td>\n",
       "      <td>259845</td>\n",
       "      <td>183555</td>\n",
       "      <td>0</td>\n",
       "      <td>0</td>\n",
       "      <td>0</td>\n",
       "      <td>443400</td>\n",
       "    </tr>\n",
       "    <tr>\n",
       "      <th>2</th>\n",
       "      <td>Association Drive</td>\n",
       "      <td>Association Drive</td>\n",
       "      <td>2069641</td>\n",
       "      <td>225000</td>\n",
       "      <td>206857</td>\n",
       "      <td>0</td>\n",
       "      <td>97360</td>\n",
       "      <td>0</td>\n",
       "      <td>529217</td>\n",
       "    </tr>\n",
       "    <tr>\n",
       "      <th>3</th>\n",
       "      <td>Lowe 11493 Sunset Hills</td>\n",
       "      <td>Lowe 11493 Sunset Hills</td>\n",
       "      <td>616884</td>\n",
       "      <td>260000</td>\n",
       "      <td>30000</td>\n",
       "      <td>0</td>\n",
       "      <td>0</td>\n",
       "      <td>0</td>\n",
       "      <td>290000</td>\n",
       "    </tr>\n",
       "    <tr>\n",
       "      <th>4</th>\n",
       "      <td>Boston Properties LP</td>\n",
       "      <td>PCA 86-C-119-07</td>\n",
       "      <td>4843600</td>\n",
       "      <td>2234000</td>\n",
       "      <td>162600</td>\n",
       "      <td>509000</td>\n",
       "      <td>0</td>\n",
       "      <td>0</td>\n",
       "      <td>2905600</td>\n",
       "    </tr>\n",
       "  </tbody>\n",
       "</table>\n",
       "</div>"
      ],
      "text/plain": [
       "                 APPLICATION_NAME              APPLICATION  D_TOTALS  \\\n",
       "0  1941 & 1950 Roland Clark Place            DPA HM-117-03    744418   \n",
       "1               JBG/EYA (block C)           RZ 2016-HM-024   1784801   \n",
       "2               Association Drive        Association Drive   2069641   \n",
       "3         Lowe 11493 Sunset Hills  Lowe 11493 Sunset Hills    616884   \n",
       "4            Boston Properties LP          PCA 86-C-119-07   4843600   \n",
       "\n",
       "   D_Office  D_Retail  D_Hotel  D_Inst  D_Indus  D_NonResGFA  \n",
       "0         0         0        0       0        0            0  \n",
       "1    259845    183555        0       0        0       443400  \n",
       "2    225000    206857        0   97360        0       529217  \n",
       "3    260000     30000        0       0        0       290000  \n",
       "4   2234000    162600   509000       0        0      2905600  "
      ]
     },
     "execution_count": 14,
     "metadata": {},
     "output_type": "execute_result"
    }
   ],
   "source": [
    "cleaned_slider_data.head()"
   ]
  },
  {
   "cell_type": "code",
   "execution_count": 27,
   "metadata": {},
   "outputs": [
    {
     "name": "stdout",
     "output_type": "stream",
     "text": [
      "1941 & 1950 Roland Clark Place\n",
      "JBG/EYA (block C)\n",
      "Association Drive\n",
      "Lowe 11493 Sunset Hills\n",
      "Boston Properties LP\n",
      "Brandywine Wood Oak\n",
      "Golf Course Overlook\n",
      "AAFMA\n",
      "RP 11111 Sunset Hills LLC\n",
      "Michael Faraday Partners\n",
      "CoreSite\n",
      "Linden\n",
      "Campus Commons\n",
      "Reston Crossing\n",
      "Reston Crescent\n",
      "Pulte Home Corporation\n",
      "Reston Town Center North\n",
      "JBG Reston Executive Center (RTC West)\n",
      "Reston Corner\n"
     ]
    },
    {
     "data": {
      "text/plain": [
       "['1941 & 1950 Roland Clark Place',\n",
       " 'JBG/EYA (block C)',\n",
       " 'Association Drive',\n",
       " 'Lowe 11493 Sunset Hills',\n",
       " 'Boston Properties LP',\n",
       " 'Brandywine Wood Oak',\n",
       " 'Golf Course Overlook',\n",
       " 'AAFMA',\n",
       " 'RP 11111 Sunset Hills LLC',\n",
       " 'Michael Faraday Partners',\n",
       " 'CoreSite',\n",
       " 'Linden',\n",
       " 'Campus Commons',\n",
       " 'Reston Crossing',\n",
       " 'Reston Crescent',\n",
       " 'Pulte Home Corporation',\n",
       " 'Reston Town Center North',\n",
       " 'JBG Reston Executive Center (RTC West)',\n",
       " 'Reston Corner']"
      ]
     },
     "execution_count": 27,
     "metadata": {},
     "output_type": "execute_result"
    }
   ],
   "source": [
    "sliderDropdownList = []\n",
    "for row in range(len(cleaned_slider_data.APPLICATION_NAME)):\n",
    "    print(cleaned_slider_data.APPLICATION_NAME[row])\n",
    "    sliderDropdownList.append(cleaned_slider_data.APPLICATION_NAME[row])\n",
    "sliderDropdownList"
   ]
  },
  {
   "cell_type": "code",
   "execution_count": 18,
   "metadata": {},
   "outputs": [
    {
     "name": "stdout",
     "output_type": "stream",
     "text": [
      "1941 & 1950 Roland Clark Place\n",
      "JBG/EYA (block C)\n",
      "Association Drive\n",
      "Lowe 11493 Sunset Hills\n",
      "Boston Properties LP\n",
      "Brandywine Wood Oak\n",
      "Golf Course Overlook\n",
      "AAFMA\n",
      "RP 11111 Sunset Hills LLC\n",
      "Michael Faraday Partners\n",
      "CoreSite\n",
      "Linden\n",
      "Campus Commons\n",
      "Reston Crossing\n",
      "Reston Crescent\n",
      "Pulte Home Corporation\n",
      "Reston Town Center North\n",
      "JBG Reston Executive Center (RTC West)\n",
      "Reston Corner\n"
     ]
    }
   ],
   "source": [
    "silderData_dict = {}\n",
    "\n",
    "for row in range(len(cleaned_slider_data.APPLICATION_NAME)):\n",
    "    print(cleaned_slider_data.APPLICATION_NAME[row])\n",
    "    \n",
    "    "
   ]
  },
  {
   "cell_type": "code",
   "execution_count": 23,
   "metadata": {},
   "outputs": [
    {
     "data": {
      "text/plain": [
       "3"
      ]
     },
     "execution_count": 23,
     "metadata": {},
     "output_type": "execute_result"
    }
   ],
   "source": [
    "idx = cleaned_slider_data.index[cleaned_slider_data['APPLICATION_NAME'] == \"Lowe 11493 Sunset Hills\"]\n",
    "idx[0]"
   ]
  },
  {
   "cell_type": "code",
   "execution_count": 25,
   "metadata": {},
   "outputs": [
    {
     "data": {
      "text/plain": [
       "616884"
      ]
     },
     "execution_count": 25,
     "metadata": {},
     "output_type": "execute_result"
    }
   ],
   "source": [
    "value = cleaned_slider_data['D_TOTALS'][3]\n",
    "value"
   ]
  },
  {
   "cell_type": "code",
   "execution_count": 6,
   "metadata": {
    "collapsed": true
   },
   "outputs": [],
   "source": [
    "data = data.sort_values('TSA')"
   ]
  },
  {
   "cell_type": "code",
   "execution_count": 7,
   "metadata": {
    "collapsed": true
   },
   "outputs": [],
   "source": [
    "data_selectlist = data[['TSA','Dis_SubDis', 'LUCategory']]"
   ]
  },
  {
   "cell_type": "code",
   "execution_count": 8,
   "metadata": {
    "collapsed": true
   },
   "outputs": [],
   "source": [
    "data_selectlist.reset_index(inplace=True, drop=True)"
   ]
  },
  {
   "cell_type": "code",
   "execution_count": 16,
   "metadata": {},
   "outputs": [
    {
     "data": {
      "text/html": [
       "<div>\n",
       "<style>\n",
       "    .dataframe thead tr:only-child th {\n",
       "        text-align: right;\n",
       "    }\n",
       "\n",
       "    .dataframe thead th {\n",
       "        text-align: left;\n",
       "    }\n",
       "\n",
       "    .dataframe tbody tr th {\n",
       "        vertical-align: top;\n",
       "    }\n",
       "</style>\n",
       "<table border=\"1\" class=\"dataframe\">\n",
       "  <thead>\n",
       "    <tr style=\"text-align: right;\">\n",
       "      <th></th>\n",
       "      <th>TSA</th>\n",
       "      <th>Dis_SubDis</th>\n",
       "      <th>LUCategory</th>\n",
       "    </tr>\n",
       "  </thead>\n",
       "  <tbody>\n",
       "    <tr>\n",
       "      <th>0</th>\n",
       "      <td>Herndon TSA</td>\n",
       "      <td>Herndon Station</td>\n",
       "      <td>Residential Mixed Use</td>\n",
       "    </tr>\n",
       "    <tr>\n",
       "      <th>1</th>\n",
       "      <td>Herndon TSA</td>\n",
       "      <td>Great Oak</td>\n",
       "      <td>Residential</td>\n",
       "    </tr>\n",
       "    <tr>\n",
       "      <th>2</th>\n",
       "      <td>Herndon TSA</td>\n",
       "      <td>Woodland Park</td>\n",
       "      <td>Mixed Use</td>\n",
       "    </tr>\n",
       "    <tr>\n",
       "      <th>3</th>\n",
       "      <td>Herndon TSA</td>\n",
       "      <td>Herndon Station</td>\n",
       "      <td>Transit Station Mixed Use</td>\n",
       "    </tr>\n",
       "    <tr>\n",
       "      <th>4</th>\n",
       "      <td>Reston Town Center TSA</td>\n",
       "      <td>Central Sunrise Valley</td>\n",
       "      <td>Government / Institutional</td>\n",
       "    </tr>\n",
       "    <tr>\n",
       "      <th>5</th>\n",
       "      <td>Reston Town Center TSA</td>\n",
       "      <td>Reston Town Center Station North</td>\n",
       "      <td>Residential Mixed Use</td>\n",
       "    </tr>\n",
       "    <tr>\n",
       "      <th>6</th>\n",
       "      <td>Reston Town Center TSA</td>\n",
       "      <td>Town Center Urban Core</td>\n",
       "      <td>Town Center Urban Core Mixed Use</td>\n",
       "    </tr>\n",
       "    <tr>\n",
       "      <th>7</th>\n",
       "      <td>Reston Town Center TSA</td>\n",
       "      <td>Central Sunrise Valley</td>\n",
       "      <td>Office</td>\n",
       "    </tr>\n",
       "    <tr>\n",
       "      <th>8</th>\n",
       "      <td>Reston Town Center TSA</td>\n",
       "      <td>West Fountain Drive</td>\n",
       "      <td>Mixed Use</td>\n",
       "    </tr>\n",
       "    <tr>\n",
       "      <th>9</th>\n",
       "      <td>Reston Town Center TSA</td>\n",
       "      <td>Town Center West</td>\n",
       "      <td>Mixed Use</td>\n",
       "    </tr>\n",
       "    <tr>\n",
       "      <th>10</th>\n",
       "      <td>Reston Town Center TSA</td>\n",
       "      <td>Town Center Urban Core</td>\n",
       "      <td>Mixed Use</td>\n",
       "    </tr>\n",
       "    <tr>\n",
       "      <th>11</th>\n",
       "      <td>Reston Town Center TSA</td>\n",
       "      <td>Reston Heights</td>\n",
       "      <td>Mixed Use</td>\n",
       "    </tr>\n",
       "    <tr>\n",
       "      <th>12</th>\n",
       "      <td>Reston Town Center TSA</td>\n",
       "      <td>Old Reston Avenue</td>\n",
       "      <td>Mixed Use</td>\n",
       "    </tr>\n",
       "    <tr>\n",
       "      <th>13</th>\n",
       "      <td>Reston Town Center TSA</td>\n",
       "      <td>East Fountain Drive</td>\n",
       "      <td>Mixed Use</td>\n",
       "    </tr>\n",
       "    <tr>\n",
       "      <th>14</th>\n",
       "      <td>Reston Town Center TSA</td>\n",
       "      <td>Central Sunrise Valley</td>\n",
       "      <td>Industrial</td>\n",
       "    </tr>\n",
       "    <tr>\n",
       "      <th>15</th>\n",
       "      <td>Reston Town Center TSA</td>\n",
       "      <td>Reston Town Center Station North</td>\n",
       "      <td>Transit Station Mixed Use</td>\n",
       "    </tr>\n",
       "    <tr>\n",
       "      <th>16</th>\n",
       "      <td>Reston Town Center TSA</td>\n",
       "      <td>Reston Town Center Station South</td>\n",
       "      <td>Transit Station Mixed Use</td>\n",
       "    </tr>\n",
       "    <tr>\n",
       "      <th>17</th>\n",
       "      <td>Reston Town Center TSA</td>\n",
       "      <td>Reston Town Center Station South</td>\n",
       "      <td>Residential Mixed Use</td>\n",
       "    </tr>\n",
       "    <tr>\n",
       "      <th>18</th>\n",
       "      <td>Reston Town Center TSA</td>\n",
       "      <td>West Fountain Drive</td>\n",
       "      <td>Town Center North Mixed Use</td>\n",
       "    </tr>\n",
       "    <tr>\n",
       "      <th>19</th>\n",
       "      <td>Wiehle-Reston East TSA</td>\n",
       "      <td>Reston East</td>\n",
       "      <td>Office</td>\n",
       "    </tr>\n",
       "    <tr>\n",
       "      <th>20</th>\n",
       "      <td>Wiehle-Reston East TSA</td>\n",
       "      <td>Wiehle Station North</td>\n",
       "      <td>Residential Mixed Use</td>\n",
       "    </tr>\n",
       "    <tr>\n",
       "      <th>21</th>\n",
       "      <td>Wiehle-Reston East TSA</td>\n",
       "      <td>Wiehle Station North</td>\n",
       "      <td>Transit Station Mixed Use</td>\n",
       "    </tr>\n",
       "    <tr>\n",
       "      <th>22</th>\n",
       "      <td>Wiehle-Reston East TSA</td>\n",
       "      <td>Sunset Hills</td>\n",
       "      <td>Mixed Use</td>\n",
       "    </tr>\n",
       "    <tr>\n",
       "      <th>23</th>\n",
       "      <td>Wiehle-Reston East TSA</td>\n",
       "      <td>Wiehle Station North</td>\n",
       "      <td>Government / Institutional</td>\n",
       "    </tr>\n",
       "    <tr>\n",
       "      <th>24</th>\n",
       "      <td>Wiehle-Reston East TSA</td>\n",
       "      <td>Reston East</td>\n",
       "      <td>Government / Institutional</td>\n",
       "    </tr>\n",
       "    <tr>\n",
       "      <th>25</th>\n",
       "      <td>Wiehle-Reston East TSA</td>\n",
       "      <td>Wiehle Station South</td>\n",
       "      <td>Residential Mixed Use</td>\n",
       "    </tr>\n",
       "    <tr>\n",
       "      <th>26</th>\n",
       "      <td>Wiehle-Reston East TSA</td>\n",
       "      <td>Wiehle Station South</td>\n",
       "      <td>Transit Station Mixed Use</td>\n",
       "    </tr>\n",
       "  </tbody>\n",
       "</table>\n",
       "</div>"
      ],
      "text/plain": [
       "                       TSA                        Dis_SubDis  \\\n",
       "0              Herndon TSA                   Herndon Station   \n",
       "1              Herndon TSA                         Great Oak   \n",
       "2              Herndon TSA                     Woodland Park   \n",
       "3              Herndon TSA                   Herndon Station   \n",
       "4   Reston Town Center TSA            Central Sunrise Valley   \n",
       "5   Reston Town Center TSA  Reston Town Center Station North   \n",
       "6   Reston Town Center TSA            Town Center Urban Core   \n",
       "7   Reston Town Center TSA            Central Sunrise Valley   \n",
       "8   Reston Town Center TSA               West Fountain Drive   \n",
       "9   Reston Town Center TSA                  Town Center West   \n",
       "10  Reston Town Center TSA            Town Center Urban Core   \n",
       "11  Reston Town Center TSA                    Reston Heights   \n",
       "12  Reston Town Center TSA                 Old Reston Avenue   \n",
       "13  Reston Town Center TSA               East Fountain Drive   \n",
       "14  Reston Town Center TSA            Central Sunrise Valley   \n",
       "15  Reston Town Center TSA  Reston Town Center Station North   \n",
       "16  Reston Town Center TSA  Reston Town Center Station South   \n",
       "17  Reston Town Center TSA  Reston Town Center Station South   \n",
       "18  Reston Town Center TSA               West Fountain Drive   \n",
       "19  Wiehle-Reston East TSA                       Reston East   \n",
       "20  Wiehle-Reston East TSA              Wiehle Station North   \n",
       "21  Wiehle-Reston East TSA              Wiehle Station North   \n",
       "22  Wiehle-Reston East TSA                      Sunset Hills   \n",
       "23  Wiehle-Reston East TSA              Wiehle Station North   \n",
       "24  Wiehle-Reston East TSA                       Reston East   \n",
       "25  Wiehle-Reston East TSA              Wiehle Station South   \n",
       "26  Wiehle-Reston East TSA              Wiehle Station South   \n",
       "\n",
       "                          LUCategory  \n",
       "0              Residential Mixed Use  \n",
       "1                        Residential  \n",
       "2                          Mixed Use  \n",
       "3          Transit Station Mixed Use  \n",
       "4         Government / Institutional  \n",
       "5              Residential Mixed Use  \n",
       "6   Town Center Urban Core Mixed Use  \n",
       "7                             Office  \n",
       "8                          Mixed Use  \n",
       "9                          Mixed Use  \n",
       "10                         Mixed Use  \n",
       "11                         Mixed Use  \n",
       "12                         Mixed Use  \n",
       "13                         Mixed Use  \n",
       "14                        Industrial  \n",
       "15         Transit Station Mixed Use  \n",
       "16         Transit Station Mixed Use  \n",
       "17             Residential Mixed Use  \n",
       "18       Town Center North Mixed Use  \n",
       "19                            Office  \n",
       "20             Residential Mixed Use  \n",
       "21         Transit Station Mixed Use  \n",
       "22                         Mixed Use  \n",
       "23        Government / Institutional  \n",
       "24        Government / Institutional  \n",
       "25             Residential Mixed Use  \n",
       "26         Transit Station Mixed Use  "
      ]
     },
     "execution_count": 16,
     "metadata": {},
     "output_type": "execute_result"
    }
   ],
   "source": [
    "data_selectlist"
   ]
  },
  {
   "cell_type": "code",
   "execution_count": 17,
   "metadata": {},
   "outputs": [
    {
     "data": {
      "text/plain": [
       "27"
      ]
     },
     "execution_count": 17,
     "metadata": {},
     "output_type": "execute_result"
    }
   ],
   "source": [
    "len(data_selectlist)"
   ]
  },
  {
   "cell_type": "code",
   "execution_count": 18,
   "metadata": {
    "collapsed": true
   },
   "outputs": [],
   "source": [
    "#  df.loc[df['B'] == 3, 'A'].iloc[0]\n",
    "\n",
    "initial_val = \"Herndon TSA\"\n",
    "district_list = []\n",
    "landuse_list = []\n",
    "final_list = {}\n",
    "final_list['district'] = []\n",
    "final_list['landuse'] = []\n",
    "\n",
    "for row1 in range(len(data_selectlist.TSA)):\n",
    "    if data_selectlist.TSA[row1] == initial_val:\n",
    "        if data_selectlist.Dis_SubDis[row1] not in district_list:\n",
    "            district_list.append(data_selectlist.Dis_SubDis[row1])\n",
    "        if data_selectlist.LUCategory[row1] not in landuse_list:\n",
    "            landuse_list.append(data_selectlist.LUCategory[row1])\n",
    "    \n",
    "    else:\n",
    "        final_list['district'].append(district_list)\n",
    "        final_list['landuse'].append(landuse_list)        \n",
    "        initial_val = data_selectlist.TSA[row1]\n",
    "        district_list = []\n",
    "        landuse_list = []\n",
    "final_list['district'].append(district_list) \n",
    "final_list['landuse'].append(landuse_list)\n",
    "\n",
    "select_list = [{\"Herndon TSA\":{\"district\":final_list['district'][0],\"landuse\":final_list['landuse'][0]},\n",
    "            \"Reston Town Center TSA\":{\"district\":final_list['district'][1],\"landuse\":final_list['landuse'][1]},\n",
    "            \"Wiehle-Reston East TSA\":{\"district\":final_list['district'][2],\"landuse\":final_list['landuse'][2]}}]\n",
    "\n"
   ]
  },
  {
   "cell_type": "code",
   "execution_count": 19,
   "metadata": {
    "scrolled": true
   },
   "outputs": [
    {
     "data": {
      "text/plain": [
       "[{'Herndon TSA': {'district': ['Herndon Station',\n",
       "    'Great Oak',\n",
       "    'Woodland Park'],\n",
       "   'landuse': ['Residential Mixed Use',\n",
       "    'Residential',\n",
       "    'Mixed Use',\n",
       "    'Transit Station Mixed Use']},\n",
       "  'Reston Town Center TSA': {'district': ['Reston Town Center Station North',\n",
       "    'Town Center Urban Core',\n",
       "    'Central Sunrise Valley',\n",
       "    'West Fountain Drive',\n",
       "    'Town Center West',\n",
       "    'Reston Heights',\n",
       "    'Old Reston Avenue',\n",
       "    'East Fountain Drive',\n",
       "    'Reston Town Center Station South'],\n",
       "   'landuse': ['Residential Mixed Use',\n",
       "    'Town Center Urban Core Mixed Use',\n",
       "    'Office',\n",
       "    'Mixed Use',\n",
       "    'Industrial',\n",
       "    'Transit Station Mixed Use',\n",
       "    'Town Center North Mixed Use']},\n",
       "  'Wiehle-Reston East TSA': {'district': ['Wiehle Station North',\n",
       "    'Sunset Hills',\n",
       "    'Reston East',\n",
       "    'Wiehle Station South'],\n",
       "   'landuse': ['Residential Mixed Use',\n",
       "    'Transit Station Mixed Use',\n",
       "    'Mixed Use',\n",
       "    'Government / Institutional']}}]"
      ]
     },
     "execution_count": 19,
     "metadata": {},
     "output_type": "execute_result"
    }
   ],
   "source": [
    "select_list"
   ]
  },
  {
   "cell_type": "code",
   "execution_count": 21,
   "metadata": {},
   "outputs": [
    {
     "data": {
      "text/plain": [
       "'Herndon Station'"
      ]
     },
     "execution_count": 21,
     "metadata": {},
     "output_type": "execute_result"
    }
   ],
   "source": [
    "select_list[0]['Herndon TSA']['district'][0]"
   ]
  },
  {
   "cell_type": "code",
   "execution_count": 22,
   "metadata": {},
   "outputs": [
    {
     "data": {
      "text/plain": [
       "27"
      ]
     },
     "execution_count": 22,
     "metadata": {},
     "output_type": "execute_result"
    }
   ],
   "source": [
    "len(data_selectlist.TSA)"
   ]
  },
  {
   "cell_type": "code",
   "execution_count": null,
   "metadata": {
    "collapsed": true
   },
   "outputs": [],
   "source": [
    "dist"
   ]
  },
  {
   "cell_type": "code",
   "execution_count": null,
   "metadata": {
    "collapsed": true
   },
   "outputs": [],
   "source": [
    "final_dist['district'][0]"
   ]
  },
  {
   "cell_type": "code",
   "execution_count": null,
   "metadata": {
    "collapsed": true
   },
   "outputs": [],
   "source": [
    "final_landuse"
   ]
  },
  {
   "cell_type": "code",
   "execution_count": null,
   "metadata": {
    "collapsed": true
   },
   "outputs": [],
   "source": [
    "column = data_selectlist['TSA'][0]\n",
    "district=[]\n",
    "final_list = []\n",
    "for rowindex in range(len(data_selectlist['TSA'])):\n",
    "    print(rowindex)\n",
    "    if data_selectlist['TSA'][rowindex] == column:\n",
    "        district_list = data_selectlist['Dis_SubDis'][rowindex]\n",
    "        district.append(district_list)\n",
    "    else:\n",
    "        final_list.append(district)\n",
    "        column = data_selectlist['TSA'][rowindex]\n",
    "        print(column)\n",
    "#         district['district']=[]\n",
    "        district = []\n",
    "final_list"
   ]
  },
  {
   "cell_type": "code",
   "execution_count": null,
   "metadata": {
    "collapsed": true
   },
   "outputs": [],
   "source": [
    "district_list = {}\n",
    "district_list[\"district\"] = []\n",
    "landuse_list = {}\n",
    "landuse_list[\"landuse\"] = []\n",
    "\n",
    "# lu_list = {}\n",
    "# lu_list[\"district\"] = []\n",
    "# lu_list[\"district\"] = []\n",
    "\n",
    "selectlist_dict = {}\n",
    "\n",
    "tsa = data_selectlist['TSA'][0]\n",
    "print(tsa)\n",
    "for rowindex in range(len(data_selectlist)):\n",
    "    print(rowindex)\n",
    "#     for x in data_selectlist.Dis_SubDis:\n",
    "    if data_selectlist.TSA[rowindex] == tsa:\n",
    "        if data_selectlist.Dis_SubDis[rowindex] not in district_list[\"district\"]:\n",
    "            district_list[\"district\"].append(data_selectlist.Dis_SubDis[rowindex])\n",
    "#     else:\n",
    "#         selectlist_dict[tsa] = [district_list]\n",
    "#         tsa = row\n",
    "#         district_list[\"district\"] = []\n",
    "#             landuse_list[\"landuse\"] = []\n",
    "#     for y in data_selectlist.LUCategory:\n",
    "#         if row == tsa:\n",
    "#         if data_selectlist.LUCategory[rowindex] not in landuse_list[\"landuse\"]:\n",
    "#             landuse_list[\"landuse\"].append(data_selectlist.LUCategory[rowindex])\n",
    "        else:\n",
    "            selectlist_dict[tsa] = district_list\n",
    "            print(selectlist_dict)\n",
    "            district_list[\"district\"] = []\n",
    "    tsa = data_selectlist['TSA'][rowindex]\n",
    "#     rowindex +=1\n",
    "#     landuse_list[\"landuse\"] = []\n",
    "#lu_list   "
   ]
  },
  {
   "cell_type": "code",
   "execution_count": null,
   "metadata": {
    "collapsed": true
   },
   "outputs": [],
   "source": [
    "selectlist_dict"
   ]
  },
  {
   "cell_type": "code",
   "execution_count": null,
   "metadata": {
    "collapsed": true
   },
   "outputs": [],
   "source": [
    " data_selectlist['TSA']"
   ]
  },
  {
   "cell_type": "code",
   "execution_count": null,
   "metadata": {
    "collapsed": true
   },
   "outputs": [],
   "source": []
  },
  {
   "cell_type": "code",
   "execution_count": null,
   "metadata": {
    "collapsed": true
   },
   "outputs": [],
   "source": [
    "def get_select_list():\n",
    "    data = pd.read_csv(\"resources/data/summaryData.csv\")\n",
    "    data = data.sort_values('TSA')\n",
    "    data_selectlist = data[['TSA','Dis_SubDis', 'LUCategory']]\n",
    "    data_selectlist.reset_index(inplace=True, drop=True)\n",
    "    district_list = {}\n",
    "    district_list[\"district\"] = []\n",
    "    landuse_list = {}\n",
    "    landuse_list[\"landuse\"] = []\n",
    "    selectlist_dict = {}\n",
    "\n",
    "    tsa = data_selectlist['TSA'][0]\n",
    "    print(tsa)\n",
    "    for row in data_selectlist.TSA:\n",
    "        if row == tsa:\n",
    "            for x in data_selectlist.Dis_SubDis:\n",
    "                if x not in district_list[\"district\"]:\n",
    "                    district_list[\"district\"].append(x)\n",
    "            for y in data_selectlist.LUCategory:\n",
    "                if y not in landuse_list[\"landuse\"]:\n",
    "                    landuse_list[\"landuse\"].append(y)\n",
    "        else:\n",
    "            selectlist_dict[tsa] = [district_list, landuse_list]\n",
    "            tsa = row\n",
    "            print(tsa)\n",
    "    return selectlist_dict"
   ]
  },
  {
   "cell_type": "code",
   "execution_count": null,
   "metadata": {
    "collapsed": true
   },
   "outputs": [],
   "source": [
    "get_select_list()"
   ]
  },
  {
   "cell_type": "code",
   "execution_count": null,
   "metadata": {
    "collapsed": true
   },
   "outputs": [],
   "source": []
  }
 ],
 "metadata": {
  "kernelspec": {
   "display_name": "pythondata_3",
   "language": "python",
   "name": "pythondata_3"
  },
  "language_info": {
   "codemirror_mode": {
    "name": "ipython",
    "version": 3
   },
   "file_extension": ".py",
   "mimetype": "text/x-python",
   "name": "python",
   "nbconvert_exporter": "python",
   "pygments_lexer": "ipython3",
   "version": "3.6.3"
  }
 },
 "nbformat": 4,
 "nbformat_minor": 2
}
