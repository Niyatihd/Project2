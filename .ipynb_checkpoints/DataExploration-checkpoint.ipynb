{
 "cells": [
  {
   "cell_type": "code",
   "execution_count": 1,
   "metadata": {
    "collapsed": true
   },
   "outputs": [],
   "source": [
    "# Python SQL toolkit and Object Relational Mapper\n",
    "import sqlalchemy\n",
    "from sqlalchemy.ext.automap import automap_base\n",
    "from sqlalchemy.orm import Session\n",
    "from sqlalchemy import create_engine,inspect, func\n",
    "\n",
    "import pandas as pd\n",
    "\n",
    "import numpy as np\n"
   ]
  },
  {
   "cell_type": "code",
   "execution_count": 2,
   "metadata": {
    "collapsed": true
   },
   "outputs": [],
   "source": [
    "# Create engine using the RestonDev.sqlite database file\n",
    "\n",
    "engine = create_engine(\"sqlite:///static/resources/data/RestonDev.sqlite\")"
   ]
  },
  {
   "cell_type": "code",
   "execution_count": 7,
   "metadata": {},
   "outputs": [
    {
     "data": {
      "text/plain": [
       "['ExApp', 'ExURApp', 'Existing', 'PlanMax']"
      ]
     },
     "execution_count": 7,
     "metadata": {},
     "output_type": "execute_result"
    }
   ],
   "source": [
    "# Create a connection to the engine called `conn`\n",
    "conn = engine.connect()\n",
    "# Declare a Base using `automap_base()`\n",
    "Base = automap_base()\n",
    "# Use the Base class to reflect the database tables\n",
    "Base.prepare(engine, reflect=True)\n",
    "# Print all of the classes mapped to the Base\n",
    "Base.classes.keys()"
   ]
  },
  {
   "cell_type": "code",
   "execution_count": 10,
   "metadata": {},
   "outputs": [],
   "source": [
    "# Assign the Measurement class, Station class to a variables called Measurement and Station respectively\n",
    "Existing = Base.classes.Existing\n",
    "PlanMax = Base.classes.PlanMax\n",
    "ExApp = Base.classes.ExApp\n",
    "ExURApp = Base.classes.ExURApp"
   ]
  },
  {
   "cell_type": "code",
   "execution_count": 11,
   "metadata": {
    "collapsed": true
   },
   "outputs": [],
   "source": [
    "# Create a session\n",
    "session = Session(engine)"
   ]
  },
  {
   "cell_type": "code",
   "execution_count": 13,
   "metadata": {},
   "outputs": [
    {
     "data": {
      "text/html": [
       "<div>\n",
       "<style>\n",
       "    .dataframe thead tr:only-child th {\n",
       "        text-align: right;\n",
       "    }\n",
       "\n",
       "    .dataframe thead th {\n",
       "        text-align: left;\n",
       "    }\n",
       "\n",
       "    .dataframe tbody tr th {\n",
       "        vertical-align: top;\n",
       "    }\n",
       "</style>\n",
       "<table border=\"1\" class=\"dataframe\">\n",
       "  <thead>\n",
       "    <tr style=\"text-align: right;\">\n",
       "      <th></th>\n",
       "      <th>TSA</th>\n",
       "      <th>Office</th>\n",
       "      <th>Retail</th>\n",
       "      <th>Hotel</th>\n",
       "      <th>Institutional</th>\n",
       "      <th>Industrial</th>\n",
       "      <th>Nonresidential_GFA</th>\n",
       "      <th>Residential_GFA</th>\n",
       "      <th>Residential_Units</th>\n",
       "    </tr>\n",
       "  </thead>\n",
       "  <tbody>\n",
       "    <tr>\n",
       "      <th>0</th>\n",
       "      <td>Reston Town Center TSA</td>\n",
       "      <td>1096572.0</td>\n",
       "      <td>0.0</td>\n",
       "      <td>0.0</td>\n",
       "      <td>0.0</td>\n",
       "      <td>0.0</td>\n",
       "      <td>1096572.0</td>\n",
       "      <td>0.0</td>\n",
       "      <td>0.0</td>\n",
       "    </tr>\n",
       "    <tr>\n",
       "      <th>1</th>\n",
       "      <td>Reston Town Center TSA</td>\n",
       "      <td>457630.0</td>\n",
       "      <td>0.0</td>\n",
       "      <td>0.0</td>\n",
       "      <td>0.0</td>\n",
       "      <td>62592.0</td>\n",
       "      <td>520222.0</td>\n",
       "      <td>0.0</td>\n",
       "      <td>0.0</td>\n",
       "    </tr>\n",
       "    <tr>\n",
       "      <th>2</th>\n",
       "      <td>Reston Town Center TSA</td>\n",
       "      <td>74983.0</td>\n",
       "      <td>258022.0</td>\n",
       "      <td>0.0</td>\n",
       "      <td>0.0</td>\n",
       "      <td>0.0</td>\n",
       "      <td>333005.0</td>\n",
       "      <td>0.0</td>\n",
       "      <td>0.0</td>\n",
       "    </tr>\n",
       "    <tr>\n",
       "      <th>3</th>\n",
       "      <td>Reston Town Center TSA</td>\n",
       "      <td>490430.0</td>\n",
       "      <td>13946.0</td>\n",
       "      <td>0.0</td>\n",
       "      <td>0.0</td>\n",
       "      <td>0.0</td>\n",
       "      <td>504376.0</td>\n",
       "      <td>295160.0</td>\n",
       "      <td>297.0</td>\n",
       "    </tr>\n",
       "    <tr>\n",
       "      <th>4</th>\n",
       "      <td>Reston Town Center TSA</td>\n",
       "      <td>214088.0</td>\n",
       "      <td>9766.0</td>\n",
       "      <td>330397.0</td>\n",
       "      <td>0.0</td>\n",
       "      <td>0.0</td>\n",
       "      <td>554251.0</td>\n",
       "      <td>161893.0</td>\n",
       "      <td>194.0</td>\n",
       "    </tr>\n",
       "  </tbody>\n",
       "</table>\n",
       "</div>"
      ],
      "text/plain": [
       "                      TSA     Office    Retail     Hotel  Institutional  \\\n",
       "0  Reston Town Center TSA  1096572.0       0.0       0.0            0.0   \n",
       "1  Reston Town Center TSA   457630.0       0.0       0.0            0.0   \n",
       "2  Reston Town Center TSA    74983.0  258022.0       0.0            0.0   \n",
       "3  Reston Town Center TSA   490430.0   13946.0       0.0            0.0   \n",
       "4  Reston Town Center TSA   214088.0    9766.0  330397.0            0.0   \n",
       "\n",
       "   Industrial  Nonresidential_GFA  Residential_GFA  Residential_Units  \n",
       "0         0.0           1096572.0              0.0                0.0  \n",
       "1     62592.0            520222.0              0.0                0.0  \n",
       "2         0.0            333005.0              0.0                0.0  \n",
       "3         0.0            504376.0         295160.0              297.0  \n",
       "4         0.0            554251.0         161893.0              194.0  "
      ]
     },
     "execution_count": 13,
     "metadata": {},
     "output_type": "execute_result"
    }
   ],
   "source": [
    "#Testing Queries\n",
    "#MostActiveStation = session.query(Measurement.station,func.count(Measurement.station)).\\\n",
    "#    group_by(Existing.TSA)\n",
    "    \n",
    "ExistinData = session.query(Existing.TSA,Existing.Office,Existing.Retail,\\\n",
    "                               Existing.Hotel,Existing.Institutional,\\\n",
    "                               Existing.Industrial,Existing.Nonresidential_GFA,Existing.Residential_GFA,Existing.Residential_Units).\\\n",
    "                               filter(Existing.TSA == \"Reston Town Center TSA\").all()\n",
    "SampleExistinDataDF = pd.DataFrame(ExistinData)\n",
    "SampleExistinDataDF.head()\n",
    "#sampleIDDict = sampleMetaDataDF.to_dict('records')\n",
    "    "
   ]
  },
  {
   "cell_type": "code",
   "execution_count": null,
   "metadata": {
    "collapsed": true
   },
   "outputs": [],
   "source": []
  }
 ],
 "metadata": {
  "kernelspec": {
   "display_name": "Python [conda env:PythonData_3]",
   "language": "python",
   "name": "conda-env-PythonData_3-py"
  },
  "language_info": {
   "codemirror_mode": {
    "name": "ipython",
    "version": 3
   },
   "file_extension": ".py",
   "mimetype": "text/x-python",
   "name": "python",
   "nbconvert_exporter": "python",
   "pygments_lexer": "ipython3",
   "version": "3.6.3"
  }
 },
 "nbformat": 4,
 "nbformat_minor": 2
}
