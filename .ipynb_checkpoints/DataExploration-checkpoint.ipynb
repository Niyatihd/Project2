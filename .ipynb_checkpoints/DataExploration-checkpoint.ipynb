{
 "cells": [
  {
   "cell_type": "code",
   "execution_count": 179,
   "metadata": {
    "collapsed": true
   },
   "outputs": [],
   "source": [
    "# Python SQL toolkit and Object Relational Mapper\n",
    "import sqlalchemy\n",
    "from sqlalchemy.ext.automap import automap_base\n",
    "from sqlalchemy.orm import Session\n",
    "from sqlalchemy import create_engine,inspect, func\n",
    "\n",
    "import pandas as pd\n",
    "import numpy as np"
   ]
  },
  {
   "cell_type": "code",
   "execution_count": 180,
   "metadata": {
    "collapsed": true
   },
   "outputs": [],
   "source": [
    "# Create engine using the RestonDev.sqlite database file\n",
    "\n",
    "engine = create_engine(\"sqlite:///static/resources/data/RestonDev.sqlite\")"
   ]
  },
  {
   "cell_type": "code",
   "execution_count": 181,
   "metadata": {},
   "outputs": [
    {
     "data": {
      "text/plain": [
       "['ExApp', 'ExURApp', 'Existing', 'PlanMax']"
      ]
     },
     "execution_count": 181,
     "metadata": {},
     "output_type": "execute_result"
    }
   ],
   "source": [
    "# Create a connection to the engine called `conn`\n",
    "conn = engine.connect()\n",
    "# Declare a Base using `automap_base()`\n",
    "Base = automap_base()\n",
    "# Use the Base class to reflect the database tables\n",
    "Base.prepare(engine, reflect=True)\n",
    "# Print all of the classes mapped to the Base\n",
    "Base.classes.keys()"
   ]
  },
  {
   "cell_type": "code",
   "execution_count": 182,
   "metadata": {
    "collapsed": true
   },
   "outputs": [],
   "source": [
    "# Assign the Measurement class, Station class to a variables called Measurement and Station respectively\n",
    "Existing = Base.classes.Existing\n",
    "PlanMax = Base.classes.PlanMax\n",
    "ExApp = Base.classes.ExApp\n",
    "ExURApp = Base.classes.ExURApp"
   ]
  },
  {
   "cell_type": "code",
   "execution_count": 183,
   "metadata": {
    "collapsed": true
   },
   "outputs": [],
   "source": [
    "# Create a session\n",
    "session = Session(engine)"
   ]
  },
  {
   "cell_type": "code",
   "execution_count": 184,
   "metadata": {
    "scrolled": true
   },
   "outputs": [
    {
     "name": "stdout",
     "output_type": "stream",
     "text": [
      "Existing.TSA == 'Herndon TSA'\n",
      "PlanMax.TSA == 'Herndon TSA'\n",
      "EXApp.TSA == 'Herndon TSA'\n",
      "EXURApp.TSA == 'Herndon TSA'\n"
     ]
    },
    {
     "name": "stderr",
     "output_type": "stream",
     "text": [
      "C:\\Users\\Ind\\Anaconda3\\envs\\PythonData_3\\lib\\site-packages\\sqlalchemy\\sql\\elements.py:4230: SAWarning: Textual SQL expression \"Existing.TSA == 'Herndon ...\" should be explicitly declared as text(\"Existing.TSA == 'Herndon ...\") (this warning may be suppressed after 10 occurrences)\n",
      "  {\"expr\": util.ellipses_string(element)})\n",
      "C:\\Users\\Ind\\Anaconda3\\envs\\PythonData_3\\lib\\site-packages\\sqlalchemy\\sql\\elements.py:4230: SAWarning: Textual SQL expression \"PlanMax.TSA == 'Herndon T...\" should be explicitly declared as text(\"PlanMax.TSA == 'Herndon T...\") (this warning may be suppressed after 10 occurrences)\n",
      "  {\"expr\": util.ellipses_string(element)})\n",
      "C:\\Users\\Ind\\Anaconda3\\envs\\PythonData_3\\lib\\site-packages\\sqlalchemy\\sql\\elements.py:4230: SAWarning: Textual SQL expression \"EXApp.TSA == 'Herndon TSA...\" should be explicitly declared as text(\"EXApp.TSA == 'Herndon TSA...\") (this warning may be suppressed after 10 occurrences)\n",
      "  {\"expr\": util.ellipses_string(element)})\n"
     ]
    },
    {
     "data": {
      "text/html": [
       "<div>\n",
       "<style>\n",
       "    .dataframe thead tr:only-child th {\n",
       "        text-align: right;\n",
       "    }\n",
       "\n",
       "    .dataframe thead th {\n",
       "        text-align: left;\n",
       "    }\n",
       "\n",
       "    .dataframe tbody tr th {\n",
       "        vertical-align: top;\n",
       "    }\n",
       "</style>\n",
       "<table border=\"1\" class=\"dataframe\">\n",
       "  <thead>\n",
       "    <tr style=\"text-align: right;\">\n",
       "      <th></th>\n",
       "      <th>Scenario</th>\n",
       "      <th>Office</th>\n",
       "      <th>Retail</th>\n",
       "      <th>Hotel</th>\n",
       "      <th>Institutional</th>\n",
       "      <th>Industrial</th>\n",
       "      <th>Nonresidential_GFA</th>\n",
       "      <th>Residential_GFA</th>\n",
       "      <th>Residential_Units</th>\n",
       "    </tr>\n",
       "  </thead>\n",
       "  <tbody>\n",
       "    <tr>\n",
       "      <th>0</th>\n",
       "      <td>Existing Development</td>\n",
       "      <td>2546267</td>\n",
       "      <td>128581</td>\n",
       "      <td>113720</td>\n",
       "      <td>7014</td>\n",
       "      <td>0</td>\n",
       "      <td>2795582</td>\n",
       "      <td>3369741</td>\n",
       "      <td>2670</td>\n",
       "    </tr>\n",
       "    <tr>\n",
       "      <th>0</th>\n",
       "      <td>Plan Buildout</td>\n",
       "      <td>5182094</td>\n",
       "      <td>226121</td>\n",
       "      <td>584985</td>\n",
       "      <td>23239</td>\n",
       "      <td>0</td>\n",
       "      <td>6016439</td>\n",
       "      <td>8523200</td>\n",
       "      <td>8175</td>\n",
       "    </tr>\n",
       "    <tr>\n",
       "      <th>0</th>\n",
       "      <td>Existing + Approved</td>\n",
       "      <td>3106267</td>\n",
       "      <td>148581</td>\n",
       "      <td>113720</td>\n",
       "      <td>7014</td>\n",
       "      <td>0</td>\n",
       "      <td>2795582</td>\n",
       "      <td>4912246</td>\n",
       "      <td>3732</td>\n",
       "    </tr>\n",
       "    <tr>\n",
       "      <th>0</th>\n",
       "      <td>Existing + Approved + UnderReview</td>\n",
       "      <td>3503352</td>\n",
       "      <td>185081</td>\n",
       "      <td>113720</td>\n",
       "      <td>7014</td>\n",
       "      <td>0</td>\n",
       "      <td>2795582</td>\n",
       "      <td>4912246</td>\n",
       "      <td>3732</td>\n",
       "    </tr>\n",
       "  </tbody>\n",
       "</table>\n",
       "</div>"
      ],
      "text/plain": [
       "                            Scenario   Office  Retail   Hotel  Institutional  \\\n",
       "0               Existing Development  2546267  128581  113720           7014   \n",
       "0                      Plan Buildout  5182094  226121  584985          23239   \n",
       "0               Existing + Approved   3106267  148581  113720           7014   \n",
       "0  Existing + Approved + UnderReview  3503352  185081  113720           7014   \n",
       "\n",
       "   Industrial  Nonresidential_GFA  Residential_GFA  Residential_Units  \n",
       "0           0             2795582          3369741               2670  \n",
       "0           0             6016439          8523200               8175  \n",
       "0           0             2795582          4912246               3732  \n",
       "0           0             2795582          4912246               3732  "
      ]
     },
     "execution_count": 184,
     "metadata": {},
     "output_type": "execute_result"
    }
   ],
   "source": [
    "#Testing Queries\n",
    "\n",
    "#TSA = \"Herndon TSA\"\n",
    "#DistSubDist = \"Herndon Station\"\n",
    "#LUCategory = \"Transit Station Mixed Use\"\n",
    "\n",
    "TSA = \"Herndon TSA\"\n",
    "DistSubDist = \"\"\n",
    "LUCategory = \"\"\n",
    "\n",
    "EX_FilterString = \"\"\n",
    "PlanMax_FilterString = \"\"\n",
    "EXApp_FilterString = \"\"\n",
    "EXURApp_FilterString = \"\"\n",
    "\n",
    "\n",
    "if TSA != \"\":\n",
    "    EX_FilterString = \"Existing.TSA == '\" + TSA + \"'\"\n",
    "    PlanMax_FilterString = \"PlanMax.TSA == '\" + TSA + \"'\"\n",
    "    EXApp_FilterString = \"EXApp.TSA == '\" + TSA + \"'\"\n",
    "    EXURApp_FilterString = \"EXURApp.TSA == '\" + TSA + \"'\"\n",
    "    \n",
    "if DistSubDist != \"\":\n",
    "    if TSA != \"\":\n",
    "        EX_FilterString = EX_FilterString +\" AND Existing.Dis_SubDis == '\" + DistSubDist + \"'\"\n",
    "        PlanMax_FilterString = PlanMax_FilterString +\" AND PlanMax.Dis_SubDis == '\" + DistSubDist + \"'\"\n",
    "        EXApp_FilterString = EXApp_FilterString +\" AND EXApp.Dis_SubDis == '\" + DistSubDist + \"'\"\n",
    "        EXURApp_FilterString = EXURApp_FilterString +\" AND EXURApp.Dis_SubDis == '\" + DistSubDist + \"'\"\n",
    "    else:\n",
    "        EX_FilterString =\"Existing.Dis_SubDis == '\" + DistSubDist + \"'\"\n",
    "        PlanMax_FilterString = \"PlanMax.Dis_SubDis == '\" + DistSubDist + \"'\"\n",
    "        EXApp_FilterString = \"EXApp.Dis_SubDis == '\" + DistSubDist + \"'\"\n",
    "        EXURApp_FilterString = \"EXURApp.Dis_SubDis == '\" + DistSubDist + \"'\"\n",
    "    \n",
    "if LUCategory != \"\":\n",
    "    if TSA != \"\" or DistSubDist != \"\":\n",
    "        EX_FilterString = EX_FilterString +\" AND Existing.LUCategory == '\" + LUCategory + \"'\"\n",
    "        PlanMax_FilterString = PlanMax_FilterString +\" AND PlanMax.LUCategory == '\" + LUCategory + \"'\"\n",
    "        EXApp_FilterString = EXApp_FilterString +\" AND EXApp.LUCategory == '\" + LUCategory + \"'\"\n",
    "        EXURApp_FilterString = EXURApp_FilterString +\" AND EXURApp.LUCategory == '\" + LUCategory + \"'\"\n",
    "    elif TSA == \"\" and DistSubDist == \"\":\n",
    "        EX_FilterString = \"Existing.LUCategory == '\" + LUCategory + \"'\"\n",
    "        PlanMax_FilterString = \"PlanMax.LUCategory == '\" + LUCategory + \"'\"\n",
    "        EXApp_FilterString = \"EXApp.LUCategory == '\" + LUCategory + \"'\"\n",
    "        EXURApp_FilterString = \"EXURApp.LUCategory == '\" + LUCategory + \"'\"\n",
    "        \n",
    "    \n",
    "print(EX_FilterString) \n",
    "print(PlanMax_FilterString) \n",
    "print(EXApp_FilterString) \n",
    "print(EXURApp_FilterString) \n",
    "\n",
    "ExistingData = session.query(Existing.Scenario,func.sum(Existing.Office).label('Office'),\\\n",
    "                            func.sum(Existing.Retail).label('Retail'),\\\n",
    "                            func.sum(Existing.Hotel).label('Hotel'),\\\n",
    "                            func.sum(Existing.Institutional).label('Institutional'),\\\n",
    "                            func.sum(Existing.Industrial).label('Industrial'),\\\n",
    "                            func.sum(Existing.Nonresidential_GFA).label('Nonresidential_GFA'),\\\n",
    "                            func.sum(Existing.Residential_GFA).label('Residential_GFA'),\\\n",
    "                            func.sum(Existing.Residential_Units).label('Residential_Units')).filter(EX_FilterString).\\\n",
    "                            group_by(Existing.Scenario).all()\n",
    "                            \n",
    "PlanMaxData = session.query(PlanMax.Scenario,func.sum(PlanMax.Office).label('Office'),\\\n",
    "                            func.sum(PlanMax.Retail).label('Retail'),\\\n",
    "                            func.sum(PlanMax.Hotel).label('Hotel'),\\\n",
    "                            func.sum(PlanMax.Institutional).label('Institutional'),\\\n",
    "                            func.sum(PlanMax.Industrial).label('Industrial'),\\\n",
    "                            func.sum(PlanMax.Nonresidential_GFA).label('Nonresidential_GFA'),\\\n",
    "                            func.sum(PlanMax.Residential_GFA).label('Residential_GFA'),\\\n",
    "                            func.sum(PlanMax.Residential_Units).label('Residential_Units')).filter(PlanMax_FilterString).\\\n",
    "                            group_by(PlanMax.Scenario).all()\n",
    "\n",
    "ExAppData = session.query(ExApp.Scenario,func.sum(ExApp.Office).label('Office'),\\\n",
    "                            func.sum(ExApp.Retail).label('Retail'),\\\n",
    "                            func.sum(ExApp.Hotel).label('Hotel'),\\\n",
    "                            func.sum(ExApp.Institutional).label('Institutional'),\\\n",
    "                            func.sum(ExApp.Industrial).label('Industrial'),\\\n",
    "                            func.sum(ExApp.Nonresidential_GFA).label('Nonresidential_GFA'),\\\n",
    "                            func.sum(ExApp.Residential_GFA).label('Residential_GFA'),\\\n",
    "                            func.sum(ExApp.Residential_Units).label('Residential_Units')).filter(EXApp_FilterString).\\\n",
    "                            group_by(ExApp.Scenario).all()\n",
    "        \n",
    "ExURAppData = session.query(ExURApp.Scenario,func.sum(ExURApp.Office).label('Office'),\\\n",
    "                            func.sum(ExURApp.Retail).label('Retail'),\\\n",
    "                            func.sum(ExURApp.Hotel).label('Hotel'),\\\n",
    "                            func.sum(ExURApp.Institutional).label('Institutional'),\\\n",
    "                            func.sum(ExURApp.Industrial).label('Industrial'),\\\n",
    "                            func.sum(ExURApp.Nonresidential_GFA).label('Nonresidential_GFA'),\\\n",
    "                            func.sum(ExURApp.Residential_GFA).label('Residential_GFA'),\\\n",
    "                            func.sum(ExURApp.Residential_Units).label('Residential_Units')).filter(EXURApp_FilterString).\\\n",
    "                            group_by(ExURApp.Scenario).all()\n",
    "                                                      \n",
    "ExistingDataDF = pd.DataFrame(ExistingData)\n",
    "PlanMaxDataDF = pd.DataFrame(PlanMaxData)\n",
    "ExAppDataDF = pd.DataFrame(ExAppData)\n",
    "ExURAppDataDF = pd.DataFrame(ExURAppData)\n",
    "\n",
    "Testframes = [ExistingDataDF, PlanMaxDataDF, ExAppDataDF,ExURAppDataDF]\n",
    "\n",
    "result = pd.concat(Testframes)\n",
    "\n",
    "#SampleExistingDataDF.head()\n",
    "result.head()\n",
    "#sampleIDDict = sampleMetaDataDF.to_dict('records')\n",
    "\n",
    "    "
   ]
  },
  {
   "cell_type": "code",
   "execution_count": null,
   "metadata": {
    "collapsed": true
   },
   "outputs": [],
   "source": []
  }
 ],
 "metadata": {
  "kernelspec": {
   "display_name": "Python [conda env:PythonData_3]",
   "language": "python",
   "name": "conda-env-PythonData_3-py"
  },
  "language_info": {
   "codemirror_mode": {
    "name": "ipython",
    "version": 3
   },
   "file_extension": ".py",
   "mimetype": "text/x-python",
   "name": "python",
   "nbconvert_exporter": "python",
   "pygments_lexer": "ipython3",
   "version": "3.6.3"
  }
 },
 "nbformat": 4,
 "nbformat_minor": 2
}
