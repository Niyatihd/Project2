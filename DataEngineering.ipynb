{
 "cells": [
  {
   "cell_type": "code",
   "execution_count": 1,
   "metadata": {
    "collapsed": true
   },
   "outputs": [],
   "source": [
    "# Dependencies\n",
    "import numpy as np\n",
    "import pandas as pd\n",
    "\n",
    "import csv\n",
    "import os\n",
    "\n",
    "# Imports the method used for connecting to DBs\n",
    "from sqlalchemy import create_engine, MetaData\n",
    "\n",
    "# Imports the methods needed to abstract classes into tables\n",
    "from sqlalchemy.ext.declarative import declarative_base\n",
    "\n",
    "# Allow us to declare column types\n",
    "from sqlalchemy import Column, Integer, String, Float"
   ]
  },
  {
   "cell_type": "code",
   "execution_count": 2,
   "metadata": {},
   "outputs": [
    {
     "data": {
      "text/html": [
       "<div>\n",
       "<style>\n",
       "    .dataframe thead tr:only-child th {\n",
       "        text-align: right;\n",
       "    }\n",
       "\n",
       "    .dataframe thead th {\n",
       "        text-align: left;\n",
       "    }\n",
       "\n",
       "    .dataframe tbody tr th {\n",
       "        vertical-align: top;\n",
       "    }\n",
       "</style>\n",
       "<table border=\"1\" class=\"dataframe\">\n",
       "  <thead>\n",
       "    <tr style=\"text-align: right;\">\n",
       "      <th></th>\n",
       "      <th>TSA</th>\n",
       "      <th>Dis_SubDis</th>\n",
       "      <th>LUCategory</th>\n",
       "      <th>Office</th>\n",
       "      <th>Retail</th>\n",
       "      <th>Hotel</th>\n",
       "      <th>Institutional</th>\n",
       "      <th>Industrial</th>\n",
       "      <th>Nonresidential_GFA</th>\n",
       "      <th>Residential_GFA</th>\n",
       "      <th>Residential_Units</th>\n",
       "      <th>Scenario</th>\n",
       "    </tr>\n",
       "  </thead>\n",
       "  <tbody>\n",
       "    <tr>\n",
       "      <th>0</th>\n",
       "      <td>Reston Town Center TSA</td>\n",
       "      <td>Central Sunrise Valley</td>\n",
       "      <td>Government / Institutional</td>\n",
       "      <td>1096572</td>\n",
       "      <td>0</td>\n",
       "      <td>0</td>\n",
       "      <td>0</td>\n",
       "      <td>0</td>\n",
       "      <td>1096572.0</td>\n",
       "      <td>0</td>\n",
       "      <td>0</td>\n",
       "      <td>Existing + Approved + UnderReview</td>\n",
       "    </tr>\n",
       "    <tr>\n",
       "      <th>1</th>\n",
       "      <td>Wiehle-Reston East TSA</td>\n",
       "      <td>Reston East</td>\n",
       "      <td>Government / Institutional</td>\n",
       "      <td>0</td>\n",
       "      <td>0</td>\n",
       "      <td>0</td>\n",
       "      <td>0</td>\n",
       "      <td>12599</td>\n",
       "      <td>12599.0</td>\n",
       "      <td>0</td>\n",
       "      <td>0</td>\n",
       "      <td>Existing + Approved + UnderReview</td>\n",
       "    </tr>\n",
       "    <tr>\n",
       "      <th>2</th>\n",
       "      <td>Wiehle-Reston East TSA</td>\n",
       "      <td>Wiehle Station North</td>\n",
       "      <td>Government / Institutional</td>\n",
       "      <td>0</td>\n",
       "      <td>0</td>\n",
       "      <td>0</td>\n",
       "      <td>9480</td>\n",
       "      <td>0</td>\n",
       "      <td>9480.0</td>\n",
       "      <td>0</td>\n",
       "      <td>0</td>\n",
       "      <td>Existing + Approved + UnderReview</td>\n",
       "    </tr>\n",
       "    <tr>\n",
       "      <th>3</th>\n",
       "      <td>Reston Town Center TSA</td>\n",
       "      <td>Central Sunrise Valley</td>\n",
       "      <td>Industrial</td>\n",
       "      <td>438678</td>\n",
       "      <td>0</td>\n",
       "      <td>0</td>\n",
       "      <td>0</td>\n",
       "      <td>709082</td>\n",
       "      <td>204160.0</td>\n",
       "      <td>0</td>\n",
       "      <td>0</td>\n",
       "      <td>Existing + Approved + UnderReview</td>\n",
       "    </tr>\n",
       "    <tr>\n",
       "      <th>4</th>\n",
       "      <td>Herndon TSA</td>\n",
       "      <td>Woodland Park</td>\n",
       "      <td>Mixed Use</td>\n",
       "      <td>2503706</td>\n",
       "      <td>165081</td>\n",
       "      <td>113720</td>\n",
       "      <td>7014</td>\n",
       "      <td>0</td>\n",
       "      <td>2355936.0</td>\n",
       "      <td>1813220</td>\n",
       "      <td>1623</td>\n",
       "      <td>Existing + Approved + UnderReview</td>\n",
       "    </tr>\n",
       "  </tbody>\n",
       "</table>\n",
       "</div>"
      ],
      "text/plain": [
       "                      TSA              Dis_SubDis                  LUCategory  \\\n",
       "0  Reston Town Center TSA  Central Sunrise Valley  Government / Institutional   \n",
       "1  Wiehle-Reston East TSA             Reston East  Government / Institutional   \n",
       "2  Wiehle-Reston East TSA    Wiehle Station North  Government / Institutional   \n",
       "3  Reston Town Center TSA  Central Sunrise Valley                  Industrial   \n",
       "4             Herndon TSA           Woodland Park                   Mixed Use   \n",
       "\n",
       "    Office  Retail   Hotel  Institutional  Industrial  Nonresidential_GFA  \\\n",
       "0  1096572       0       0              0           0           1096572.0   \n",
       "1        0       0       0              0       12599             12599.0   \n",
       "2        0       0       0           9480           0              9480.0   \n",
       "3   438678       0       0              0      709082            204160.0   \n",
       "4  2503706  165081  113720           7014           0           2355936.0   \n",
       "\n",
       "   Residential_GFA  Residential_Units                           Scenario  \n",
       "0                0                  0  Existing + Approved + UnderReview  \n",
       "1                0                  0  Existing + Approved + UnderReview  \n",
       "2                0                  0  Existing + Approved + UnderReview  \n",
       "3                0                  0  Existing + Approved + UnderReview  \n",
       "4          1813220               1623  Existing + Approved + UnderReview  "
      ]
     },
     "execution_count": 2,
     "metadata": {},
     "output_type": "execute_result"
    }
   ],
   "source": [
    "# Read the data and cleaning it up\n",
    "#pd.read_csv(os.path.join(\"raw_data\",\"city_data.csv\"))\n",
    "summaryDf = pd.read_csv(os.path.join(\"static\",\"resources\",\"data\",\"summaryData.csv\"))\n",
    "summaryDf['DummyFld'] = \"X\"\n",
    "\n",
    "ExistingDevDf = summaryDf[[\"TSA\",\"Dis_SubDis\",\"LUCategory\",\"EX_OffSQFT\",\"EX_RetSQFT\",\"EX_HotSQFT\",\"EX_InstSQFT\",\"EX_IndusSQFT\",\"EX_NonResGFA\",\"EX_ResSQFT\",\"EX_ResDu\"]]\n",
    "ExistingDevDf = ExistingDevDf.rename(columns = {'EX_OffSQFT': 'Office','EX_RetSQFT': 'Retail' ,'EX_HotSQFT': 'Hotel','EX_InstSQFT': 'Institutional','EX_IndusSQFT': 'Industrial','EX_NonResGFA': 'Nonresidential_GFA','EX_ResSQFT': 'Residential_GFA','EX_ResDu': 'Residential_Units'})\n",
    "ExistingDevDf['Scenario'] = \"Existing Development\"\n",
    "\n",
    "\n",
    "PlanMaxDf = summaryDf[[\"TSA\",\"Dis_SubDis\",\"LUCategory\",\"MR_OFF_SQFT\",\"MR_RET_SQFT\",\"MR_HOT_SQFT\",\"MR_INS_SQFT\",\"MR_IND_SQFT\",\"MR_NonRes\",\"MR_ResGFA\",\"MR_ResDU\"]]\n",
    "PlanMaxDf = PlanMaxDf.rename(columns = {'MR_OFF_SQFT': 'Office','MR_RET_SQFT': 'Retail' ,'MR_HOT_SQFT': 'Hotel','MR_INS_SQFT': 'Institutional','MR_IND_SQFT': 'Industrial','MR_NonRes': 'Nonresidential_GFA','MR_ResGFA': 'Residential_GFA','MR_ResDU': 'Residential_Units'})\n",
    "PlanMaxDf['Scenario'] = \"Plan Buildout\"\n",
    "\n",
    "ExAppDevDf = summaryDf[[\"TSA\",\"Dis_SubDis\",\"LUCategory\",\"EARMR_OffSQFT\",\"EARMR_RetSQFT\",\"EARMR_HotSQFT\",\"EARMR_InstSQFT\",\"EARMR_IndusSQFT\",\"EARMR_NonResGFA\",\"EARMR_ResSQFT\",\"EARMR_ResDu\"]]\n",
    "ExAppDevDf = ExAppDevDf.rename(columns = {'EARMR_OffSQFT': 'Office','EARMR_RetSQFT': 'Retail' ,'EARMR_HotSQFT': 'Hotel','EARMR_InstSQFT': 'Institutional','EARMR_IndusSQFT': 'Industrial','EARMR_NonResGFA': 'Nonresidential_GFA','EARMR_ResSQFT': 'Residential_GFA','EARMR_ResDu': 'Residential_Units'})\n",
    "ExAppDevDf['Scenario'] = \"Existing + Approved \"\n",
    "\n",
    "ExURAppDevDf = summaryDf[[\"TSA\",\"Dis_SubDis\",\"LUCategory\",\"EUARMR_OffSQFT\",\"EUARMR_RetSQFT\",\"EUARMR_HotelSQFT\",\"EUARMR_InstSQFT\",\"EUARMR_IndusSQFT\",\"EUARMR_NonResGFA\",\"EUARMR_ResSQFT\",\"EUARMR_ResDu\"]]\n",
    "ExURAppDevDf = ExURAppDevDf.rename(columns = {'EUARMR_OffSQFT': 'Office','EUARMR_RetSQFT': 'Retail' ,'EUARMR_HotelSQFT': 'Hotel','EUARMR_InstSQFT': 'Institutional','EUARMR_IndusSQFT': 'Industrial','EUARMR_NonResGFA': 'Nonresidential_GFA','EUARMR_ResSQFT': 'Residential_GFA','EUARMR_ResDu': 'Residential_Units'})\n",
    "ExURAppDevDf['Scenario'] = \"Existing + Approved + UnderReview\"\n",
    "\n",
    "ExURAppDevDf.head()\n",
    "\n"
   ]
  },
  {
   "cell_type": "code",
   "execution_count": 3,
   "metadata": {
    "collapsed": true
   },
   "outputs": [],
   "source": [
    "# Database creation\n",
    "import sqlalchemy\n",
    "# Imports the method used for connecting to DBs\n",
    "from sqlalchemy import create_engine\n",
    "\n",
    "# Imports the methods needed to abstract classes into tables\n",
    "from sqlalchemy.ext.declarative import declarative_base\n",
    "\n",
    "# Allow us to declare column types\n",
    "from sqlalchemy import Column, Integer, String, Float, Text"
   ]
  },
  {
   "cell_type": "code",
   "execution_count": 4,
   "metadata": {
    "collapsed": true
   },
   "outputs": [],
   "source": [
    "# Sets an object to utilize the default declarative base in SQL Alchemy\n",
    "Base = declarative_base()\n"
   ]
  },
  {
   "cell_type": "code",
   "execution_count": 5,
   "metadata": {
    "collapsed": true,
    "scrolled": true
   },
   "outputs": [],
   "source": [
    "# Create an engine to a SQLite database file called `RestonDev.sqlite`\n",
    "\n",
    "engine = create_engine(\"sqlite:///static/resources/data/RestonDev.sqlite\")"
   ]
  },
  {
   "cell_type": "code",
   "execution_count": 6,
   "metadata": {
    "collapsed": true
   },
   "outputs": [],
   "source": [
    "# Create a connection to the engine called `conn`\n",
    "conn = engine.connect()"
   ]
  },
  {
   "cell_type": "code",
   "execution_count": 7,
   "metadata": {
    "collapsed": true
   },
   "outputs": [],
   "source": [
    "# Creating four classes - Existing, PlanMax , ExApp and ExURApp\n",
    "class Existing (Base):\n",
    "    __tablename__ = 'Existing'\n",
    "\n",
    "    id = Column(Integer, primary_key=True)\n",
    "    TSA = Column(String)\n",
    "    Dis_SubDis = Column(String)\n",
    "    LUCategory = Column(String)\n",
    "    Office = Column(Integer)\n",
    "    Retail = Column(Integer)\n",
    "    Hotel = Column(Integer)\n",
    "    Institutional = Column(Integer)\n",
    "    Industrial = Column(Integer)\n",
    "    Nonresidential_GFA = Column(Integer)\n",
    "    Residential_GFA = Column(Integer)\n",
    "    Residential_Units = Column(Integer)\n",
    "    Scenario = Column(String)\n",
    "    \n",
    "    def __repr__(self):\n",
    "        return f\"id={self.id}, name={self.name}\"\n",
    "class PlanMax (Base):\n",
    "    __tablename__ = 'PlanMax'\n",
    "\n",
    "    id = Column(Integer, primary_key=True)\n",
    "    TSA = Column(String)\n",
    "    Dis_SubDis = Column(String)\n",
    "    LUCategory = Column(String)\n",
    "    Office = Column(Integer)\n",
    "    Retail = Column(Integer)\n",
    "    Hotel = Column(Integer)\n",
    "    Institutional = Column(Integer)\n",
    "    Industrial = Column(Integer)\n",
    "    Nonresidential_GFA = Column(Integer)\n",
    "    Residential_GFA = Column(Integer)\n",
    "    Residential_Units = Column(Integer)\n",
    "    Scenario = Column(String)\n",
    "    \n",
    "    def __repr__(self):\n",
    "        return f\"id={self.id}, name={self.name}\"\n",
    "class ExApp (Base):\n",
    "    __tablename__ = 'ExApp'\n",
    "\n",
    "    id = Column(Integer, primary_key=True)\n",
    "    TSA = Column(String)\n",
    "    Dis_SubDis = Column(String)\n",
    "    LUCategory = Column(String)\n",
    "    Office = Column(Integer)\n",
    "    Retail = Column(Integer)\n",
    "    Hotel = Column(Integer)\n",
    "    Institutional = Column(Integer)\n",
    "    Industrial = Column(Integer)\n",
    "    Nonresidential_GFA = Column(Integer)\n",
    "    Residential_GFA = Column(Integer)\n",
    "    Residential_Units = Column(Integer)\n",
    "    Scenario = Column(String)\n",
    "    def __repr__(self):\n",
    "        return f\"id={self.id}, name={self.name}\"\n",
    "class ExURApp (Base):\n",
    "    __tablename__ = 'ExURApp'\n",
    "\n",
    "    id = Column(Integer, primary_key=True)\n",
    "    TSA = Column(String)\n",
    "    Dis_SubDis = Column(String)\n",
    "    LUCategory = Column(String)\n",
    "    Office = Column(Integer)\n",
    "    Retail = Column(Integer)\n",
    "    Hotel = Column(Integer)\n",
    "    Institutional = Column(Integer)\n",
    "    Industrial = Column(Integer)\n",
    "    Nonresidential_GFA = Column(Integer)\n",
    "    Residential_GFA = Column(Integer)\n",
    "    Residential_Units = Column(Integer)\n",
    "    Scenario = Column(String)\n",
    "    def __repr__(self):\n",
    "        return f\"id={self.id}, name={self.name}\"\n",
    "    \n"
   ]
  },
  {
   "cell_type": "code",
   "execution_count": 8,
   "metadata": {
    "collapsed": true
   },
   "outputs": [],
   "source": [
    "# Use `create_all` to create the above tables in the database\n",
    "Base.metadata.create_all(engine)"
   ]
  },
  {
   "cell_type": "code",
   "execution_count": 9,
   "metadata": {},
   "outputs": [],
   "source": [
    "# coverting the dataframes to dictionaries\n",
    "\n",
    "ExistingData = ExistingDevDf.to_dict(orient='records')\n",
    "PlanMaxData = PlanMaxDf.to_dict(orient='records')\n",
    "ExAppData = ExAppDevDf.to_dict(orient='records')\n",
    "ExURAppData = ExURAppDevDf.to_dict(orient='records')\n"
   ]
  },
  {
   "cell_type": "code",
   "execution_count": 10,
   "metadata": {
    "collapsed": true
   },
   "outputs": [],
   "source": [
    "# Use MetaData from SQLAlchemy to reflect the tables\n",
    "metadata = MetaData(bind=engine)\n",
    "metadata.reflect()"
   ]
  },
  {
   "cell_type": "code",
   "execution_count": 11,
   "metadata": {
    "collapsed": true
   },
   "outputs": [],
   "source": [
    "# Save the reference to the tables\n",
    "ExistingTable = sqlalchemy.Table('Existing', metadata, autoload=True)\n",
    "PlanMaxTable = sqlalchemy.Table('PlanMax', metadata, autoload=True)\n",
    "ExAppTable = sqlalchemy.Table('ExApp', metadata, autoload=True)\n",
    "ExURAppTable = sqlalchemy.Table('ExURApp', metadata, autoload=True)"
   ]
  },
  {
   "cell_type": "code",
   "execution_count": 12,
   "metadata": {},
   "outputs": [
    {
     "data": {
      "text/plain": [
       "<sqlalchemy.engine.result.ResultProxy at 0x69df787518>"
      ]
     },
     "execution_count": 12,
     "metadata": {},
     "output_type": "execute_result"
    }
   ],
   "source": [
    "# Insert the tables. Before you do that delete any pre-exsiting tables\n",
    "conn.execute(ExistingTable.delete())\n",
    "conn.execute(PlanMaxTable.delete())\n",
    "conn.execute(ExAppTable.delete())\n",
    "conn.execute(ExURAppTable.delete())\n",
    "\n",
    "\n",
    "conn.execute(ExistingTable.insert(), ExistingData)\n",
    "conn.execute(PlanMaxTable.insert(), PlanMaxData)\n",
    "conn.execute(ExAppTable.insert(), ExAppData)\n",
    "conn.execute(ExURAppTable.insert(), ExURAppData)"
   ]
  },
  {
   "cell_type": "code",
   "execution_count": 13,
   "metadata": {},
   "outputs": [
    {
     "data": {
      "text/plain": [
       "[(1, 'Reston Town Center TSA', 'Central Sunrise Valley', 'Government / Institutional', 1096572, 0, 0, 0, 0, 1096572, 0, 0, 'Existing + Approved + UnderReview'),\n",
       " (2, 'Wiehle-Reston East TSA', 'Reston East', 'Government / Institutional', 0, 0, 0, 0, 12599, 12599, 0, 0, 'Existing + Approved + UnderReview'),\n",
       " (3, 'Wiehle-Reston East TSA', 'Wiehle Station North', 'Government / Institutional', 0, 0, 0, 9480, 0, 9480, 0, 0, 'Existing + Approved + UnderReview'),\n",
       " (4, 'Reston Town Center TSA', 'Central Sunrise Valley', 'Industrial', 438678, 0, 0, 0, 709082, 204160, 0, 0, 'Existing + Approved + UnderReview'),\n",
       " (5, 'Herndon TSA', 'Woodland Park', 'Mixed Use', 2503706, 165081, 113720, 7014, 0, 2355936, 1813220, 1623, 'Existing + Approved + UnderReview'),\n",
       " (6, 'Reston Town Center TSA', 'East Fountain Drive', 'Mixed Use', 488683, 263222, 0, 0, 0, 333005, 0, 0, 'Existing + Approved + UnderReview'),\n",
       " (7, 'Reston Town Center TSA', 'Old Reston Avenue', 'Mixed Use', 567061, 13946, 0, 0, 0, 436424, 295160, 297, 'Existing + Approved + UnderReview'),\n",
       " (8, 'Reston Town Center TSA', 'Reston Heights', 'Mixed Use', 214088, 9766, 330397, 0, 0, 554251, 161893, 194, 'Existing + Approved + UnderReview'),\n",
       " (9, 'Reston Town Center TSA', 'Town Center Urban Core', 'Mixed Use', 0, 0, 0, 0, 0, None, 236435, 150, 'Existing + Approved + UnderReview'),\n",
       " (10, 'Reston Town Center TSA', 'Town Center West', 'Mixed Use', 475467, 193939, 0, 316855, 0, 986261, 1083247, 696, 'Existing + Approved + UnderReview'),\n",
       " (11, 'Reston Town Center TSA', 'West Fountain Drive', 'Mixed Use', 0, 0, 0, 8988, 0, 8988, 336555, 280, 'Existing + Approved + UnderReview'),\n",
       " (12, 'Wiehle-Reston East TSA', 'Sunset Hills', 'Mixed Use', 1463064, 161530, 0, 0, 0, 1624594, 0, 0, 'Existing + Approved + UnderReview'),\n",
       " (13, 'Reston Town Center TSA', 'Central Sunrise Valley', 'Office', 1291957, 1500, 0, 0, 115154, 1407111, 173142, 145, 'Existing + Approved + UnderReview'),\n",
       " (14, 'Wiehle-Reston East TSA', 'Reston East', 'Office', 4163744, 234199, 191839, 0, 306291, 3949399, 200000, 188, 'Existing + Approved + UnderReview'),\n",
       " (15, 'Herndon TSA', 'Great Oak', 'Residential', 0, 0, 0, 0, 0, 0, 2244511, 1492, 'Existing + Approved + UnderReview'),\n",
       " (16, 'Herndon TSA', 'Herndon Station', 'Residential Mixed Use', 999646, 20000, 0, 0, 0, 439646, 854515, 617, 'Existing + Approved + UnderReview'),\n",
       " (17, 'Reston Town Center TSA', 'Reston Town Center Station North', 'Residential Mixed Use', 696016, 16861, 55430, 0, 0, 266307, 412000, 480, 'Existing + Approved + UnderReview'),\n",
       " (18, 'Reston Town Center TSA', 'Reston Town Center Station South', 'Residential Mixed Use', 332569, 0, 0, 0, 586930, 919499, 0, 0, 'Existing + Approved + UnderReview'),\n",
       " (19, 'Wiehle-Reston East TSA', 'Wiehle Station North', 'Residential Mixed Use', 1454223, 96947, 0, 0, 0, 1467480, 2226672, 2020, 'Existing + Approved + UnderReview'),\n",
       " (20, 'Wiehle-Reston East TSA', 'Wiehle Station South', 'Residential Mixed Use', 789324, 0, 0, 0, 0, 789324, 951018, 797, 'Existing + Approved + UnderReview'),\n",
       " (21, 'Reston Town Center TSA', 'West Fountain Drive', 'Town Center North Mixed Use', 0, 63000, 0, 417680, 0, 0, 3993930, 3990, 'Existing + Approved + UnderReview'),\n",
       " (22, 'Reston Town Center TSA', 'Town Center Urban Core', 'Town Center Urban Core Mixed Use', 2820797, 347067, 437235, 0, 1047, 3063859, 3087305, 2607, 'Existing + Approved + UnderReview'),\n",
       " (23, 'Herndon TSA', 'Herndon Station', 'Transit Station Mixed Use', 0, 0, 0, 0, 0, 0, 0, 0, 'Existing + Approved + UnderReview'),\n",
       " (24, 'Reston Town Center TSA', 'Reston Town Center Station North', 'Transit Station Mixed Use', 3240344, 247300, 509000, 70954, 0, 469276, 2188750, 2106, 'Existing + Approved + UnderReview'),\n",
       " (25, 'Reston Town Center TSA', 'Reston Town Center Station South', 'Transit Station Mixed Use', 2928722, 456000, 125000, 250000, 0, 442782, 2932000, 3017, 'Existing + Approved + UnderReview'),\n",
       " (26, 'Wiehle-Reston East TSA', 'Wiehle Station North', 'Transit Station Mixed Use', 1576486, 230167, 350599, 25000, 0, 155288, 2508405, 2379, 'Existing + Approved + UnderReview'),\n",
       " (27, 'Wiehle-Reston East TSA', 'Wiehle Station South', 'Transit Station Mixed Use', 1301914, 43500, 130000, 0, 0, 262411, 1911885, 1792, 'Existing + Approved + UnderReview')]"
      ]
     },
     "execution_count": 13,
     "metadata": {},
     "output_type": "execute_result"
    }
   ],
   "source": [
    "#Testing \n",
    "\n",
    "conn.execute(\"select * from ExURApp\").fetchall()"
   ]
  },
  {
   "cell_type": "code",
   "execution_count": null,
   "metadata": {
    "collapsed": true
   },
   "outputs": [],
   "source": []
  }
 ],
 "metadata": {
  "kernelspec": {
   "display_name": "Python [conda env:PythonData_3]",
   "language": "python",
   "name": "conda-env-PythonData_3-py"
  },
  "language_info": {
   "codemirror_mode": {
    "name": "ipython",
    "version": 3
   },
   "file_extension": ".py",
   "mimetype": "text/x-python",
   "name": "python",
   "nbconvert_exporter": "python",
   "pygments_lexer": "ipython3",
   "version": "3.6.3"
  }
 },
 "nbformat": 4,
 "nbformat_minor": 2
}
