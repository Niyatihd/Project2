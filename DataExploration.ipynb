{
 "cells": [
  {
   "cell_type": "code",
   "execution_count": 25,
   "metadata": {
    "collapsed": true
   },
   "outputs": [],
   "source": [
    "# Python SQL toolkit and Object Relational Mapper\n",
    "import sqlalchemy\n",
    "from sqlalchemy.ext.automap import automap_base\n",
    "from sqlalchemy.orm import Session\n",
    "from sqlalchemy import create_engine,inspect, func\n",
    "\n",
    "import pandas as pd\n",
    "\n",
    "import numpy as np\n"
   ]
  },
  {
   "cell_type": "code",
   "execution_count": 26,
   "metadata": {
    "collapsed": true
   },
   "outputs": [],
   "source": [
    "# Create engine using the RestonDev.sqlite database file\n",
    "\n",
    "engine = create_engine(\"sqlite:///static/resources/data/RestonDev.sqlite\")"
   ]
  },
  {
   "cell_type": "code",
   "execution_count": 27,
   "metadata": {},
   "outputs": [
    {
     "data": {
      "text/plain": [
       "['ExApp', 'ExURApp', 'Existing', 'PlanMax']"
      ]
     },
     "execution_count": 27,
     "metadata": {},
     "output_type": "execute_result"
    }
   ],
   "source": [
    "# Create a connection to the engine called `conn`\n",
    "conn = engine.connect()\n",
    "# Declare a Base using `automap_base()`\n",
    "Base = automap_base()\n",
    "# Use the Base class to reflect the database tables\n",
    "Base.prepare(engine, reflect=True)\n",
    "# Print all of the classes mapped to the Base\n",
    "Base.classes.keys()"
   ]
  },
  {
   "cell_type": "code",
   "execution_count": 28,
   "metadata": {},
   "outputs": [],
   "source": [
    "# Assign the Measurement class, Station class to a variables called Measurement and Station respectively\n",
    "Existing = Base.classes.Existing\n",
    "PlanMax = Base.classes.PlanMax\n",
    "ExApp = Base.classes.ExApp\n",
    "ExURApp = Base.classes.ExURApp"
   ]
  },
  {
   "cell_type": "code",
   "execution_count": 29,
   "metadata": {
    "collapsed": true
   },
   "outputs": [],
   "source": [
    "# Create a session\n",
    "session = Session(engine)"
   ]
  },
  {
   "cell_type": "code",
   "execution_count": 30,
   "metadata": {},
   "outputs": [
    {
     "ename": "AttributeError",
     "evalue": "type object 'Existing' has no attribute 'Scenario'",
     "output_type": "error",
     "traceback": [
      "\u001b[1;31m---------------------------------------------------------------------------\u001b[0m",
      "\u001b[1;31mAttributeError\u001b[0m                            Traceback (most recent call last)",
      "\u001b[1;32m<ipython-input-30-1fb1e1840a5f>\u001b[0m in \u001b[0;36m<module>\u001b[1;34m()\u001b[0m\n\u001b[0;32m      6\u001b[0m \u001b[0mGroupByString\u001b[0m \u001b[1;33m=\u001b[0m \u001b[1;34m\"\"\u001b[0m\u001b[1;33m\u001b[0m\u001b[0m\n\u001b[0;32m      7\u001b[0m \u001b[1;33m\u001b[0m\u001b[0m\n\u001b[1;32m----> 8\u001b[1;33m \u001b[0mExistinData\u001b[0m \u001b[1;33m=\u001b[0m \u001b[0msession\u001b[0m\u001b[1;33m.\u001b[0m\u001b[0mquery\u001b[0m\u001b[1;33m(\u001b[0m\u001b[0mExisting\u001b[0m\u001b[1;33m.\u001b[0m\u001b[0mScenario\u001b[0m\u001b[1;33m,\u001b[0m\u001b[0mfunc\u001b[0m\u001b[1;33m.\u001b[0m\u001b[0msum\u001b[0m\u001b[1;33m(\u001b[0m\u001b[0mExisting\u001b[0m\u001b[1;33m.\u001b[0m\u001b[0mOffice\u001b[0m\u001b[1;33m)\u001b[0m\u001b[1;33m.\u001b[0m\u001b[0mlabel\u001b[0m\u001b[1;33m(\u001b[0m\u001b[1;34m'Office'\u001b[0m\u001b[1;33m)\u001b[0m\u001b[1;33m,\u001b[0m                            \u001b[0mfunc\u001b[0m\u001b[1;33m.\u001b[0m\u001b[0msum\u001b[0m\u001b[1;33m(\u001b[0m\u001b[0mExisting\u001b[0m\u001b[1;33m.\u001b[0m\u001b[0mRetail\u001b[0m\u001b[1;33m)\u001b[0m\u001b[1;33m.\u001b[0m\u001b[0mlabel\u001b[0m\u001b[1;33m(\u001b[0m\u001b[1;34m'Retail'\u001b[0m\u001b[1;33m)\u001b[0m\u001b[1;33m,\u001b[0m                            \u001b[0mfunc\u001b[0m\u001b[1;33m.\u001b[0m\u001b[0msum\u001b[0m\u001b[1;33m(\u001b[0m\u001b[0mExisting\u001b[0m\u001b[1;33m.\u001b[0m\u001b[0mHotel\u001b[0m\u001b[1;33m)\u001b[0m\u001b[1;33m.\u001b[0m\u001b[0mlabel\u001b[0m\u001b[1;33m(\u001b[0m\u001b[1;34m'Hotel'\u001b[0m\u001b[1;33m)\u001b[0m\u001b[1;33m,\u001b[0m                            \u001b[0mfunc\u001b[0m\u001b[1;33m.\u001b[0m\u001b[0msum\u001b[0m\u001b[1;33m(\u001b[0m\u001b[0mExisting\u001b[0m\u001b[1;33m.\u001b[0m\u001b[0mInstitutional\u001b[0m\u001b[1;33m)\u001b[0m\u001b[1;33m.\u001b[0m\u001b[0mlabel\u001b[0m\u001b[1;33m(\u001b[0m\u001b[1;34m'Institutional'\u001b[0m\u001b[1;33m)\u001b[0m\u001b[1;33m,\u001b[0m                            \u001b[0mfunc\u001b[0m\u001b[1;33m.\u001b[0m\u001b[0msum\u001b[0m\u001b[1;33m(\u001b[0m\u001b[0mExisting\u001b[0m\u001b[1;33m.\u001b[0m\u001b[0mIndustrial\u001b[0m\u001b[1;33m)\u001b[0m\u001b[1;33m.\u001b[0m\u001b[0mlabel\u001b[0m\u001b[1;33m(\u001b[0m\u001b[1;34m'Industrial'\u001b[0m\u001b[1;33m)\u001b[0m\u001b[1;33m,\u001b[0m                            \u001b[0mfunc\u001b[0m\u001b[1;33m.\u001b[0m\u001b[0msum\u001b[0m\u001b[1;33m(\u001b[0m\u001b[0mExisting\u001b[0m\u001b[1;33m.\u001b[0m\u001b[0mNonresidential_GFA\u001b[0m\u001b[1;33m)\u001b[0m\u001b[1;33m.\u001b[0m\u001b[0mlabel\u001b[0m\u001b[1;33m(\u001b[0m\u001b[1;34m'Nonresidential_GFA'\u001b[0m\u001b[1;33m)\u001b[0m\u001b[1;33m,\u001b[0m                            \u001b[0mfunc\u001b[0m\u001b[1;33m.\u001b[0m\u001b[0msum\u001b[0m\u001b[1;33m(\u001b[0m\u001b[0mExisting\u001b[0m\u001b[1;33m.\u001b[0m\u001b[0mResidential_GFA\u001b[0m\u001b[1;33m)\u001b[0m\u001b[1;33m.\u001b[0m\u001b[0mlabel\u001b[0m\u001b[1;33m(\u001b[0m\u001b[1;34m'Residential_GFA'\u001b[0m\u001b[1;33m)\u001b[0m\u001b[1;33m,\u001b[0m                            \u001b[0mfunc\u001b[0m\u001b[1;33m.\u001b[0m\u001b[0msum\u001b[0m\u001b[1;33m(\u001b[0m\u001b[0mExisting\u001b[0m\u001b[1;33m.\u001b[0m\u001b[0mResidential_Units\u001b[0m\u001b[1;33m)\u001b[0m\u001b[1;33m.\u001b[0m\u001b[0mlabel\u001b[0m\u001b[1;33m(\u001b[0m\u001b[1;34m'Residential_Units'\u001b[0m\u001b[1;33m)\u001b[0m\u001b[1;33m)\u001b[0m\u001b[1;33m.\u001b[0m                            \u001b[0mfilter\u001b[0m\u001b[1;33m(\u001b[0m\u001b[0mFilterString\u001b[0m\u001b[1;33m)\u001b[0m\u001b[1;33m.\u001b[0m                            \u001b[0mgroup_by\u001b[0m\u001b[1;33m(\u001b[0m\u001b[0mGroupByString\u001b[0m\u001b[1;33m)\u001b[0m\u001b[1;33m.\u001b[0m\u001b[0mall\u001b[0m\u001b[1;33m(\u001b[0m\u001b[1;33m)\u001b[0m\u001b[1;33m\u001b[0m\u001b[0m\n\u001b[0m\u001b[0;32m      9\u001b[0m \u001b[1;33m\u001b[0m\u001b[0m\n\u001b[0;32m     10\u001b[0m \u001b[1;33m\u001b[0m\u001b[0m\n",
      "\u001b[1;31mAttributeError\u001b[0m: type object 'Existing' has no attribute 'Scenario'"
     ]
    }
   ],
   "source": [
    "#Testing Queries\n",
    "#MostActiveStation = session.query(Measurement.station,func.count(Measurement.station)).\\\n",
    "#    group_by(Existing.TSA)\n",
    "\n",
    "FilterString = \"\"\n",
    "GroupByString = \"\"\n",
    "    \n",
    "ExistinData = session.query(Existing.Scenario,func.sum(Existing.Office).label('Office'),\\\n",
    "                            func.sum(Existing.Retail).label('Retail'),\\\n",
    "                            func.sum(Existing.Hotel).label('Hotel'),\\\n",
    "                            func.sum(Existing.Institutional).label('Institutional'),\\\n",
    "                            func.sum(Existing.Industrial).label('Industrial'),\\\n",
    "                            func.sum(Existing.Nonresidential_GFA).label('Nonresidential_GFA'),\\\n",
    "                            func.sum(Existing.Residential_GFA).label('Residential_GFA'),\\\n",
    "                            func.sum(Existing.Residential_Units).label('Residential_Units')).\\\n",
    "                            filter(FilterString).\\\n",
    "                            group_by(GroupByString).all()\n",
    "                            \n",
    "                            \n",
    "SampleExistinDataDF = pd.DataFrame(ExistinData)\n",
    "SampleExistinDataDF.head()\n",
    "#sampleIDDict = sampleMetaDataDF.to_dict('records')\n",
    "\n",
    "    "
   ]
  },
  {
   "cell_type": "code",
   "execution_count": null,
   "metadata": {
    "collapsed": true
   },
   "outputs": [],
   "source": [
    "    \n",
    "ExistinData = session.query(Existing.TSA,func.sum(Existing.Office).label('Office'),\\\n",
    "                            func.sum(Existing.Retail).label('Retail'),\\\n",
    "                            func.sum(Existing.Hotel).label('Hotel'),\\\n",
    "                            func.sum(Existing.Institutional).label('Institutional'),\\\n",
    "                            func.sum(Existing.Industrial).label('Industrial'),\\\n",
    "                            func.sum(Existing.Nonresidential_GFA).label('Nonresidential_GFA'),\\\n",
    "                            func.sum(Existing.Residential_GFA).label('Residential_GFA'),\\\n",
    "                            func.sum(Existing.Residential_Units).label('Residential_Units')).\\\n",
    "                            filter(Existing.TSA == \"Reston Town Center TSA\").\\\n",
    "                            group_by(Existing.TSA).all()"
   ]
  }
 ],
 "metadata": {
  "kernelspec": {
   "display_name": "Python [conda env:PythonData_3]",
   "language": "python",
   "name": "conda-env-PythonData_3-py"
  },
  "language_info": {
   "codemirror_mode": {
    "name": "ipython",
    "version": 3
   },
   "file_extension": ".py",
   "mimetype": "text/x-python",
   "name": "python",
   "nbconvert_exporter": "python",
   "pygments_lexer": "ipython3",
   "version": "3.6.3"
  }
 },
 "nbformat": 4,
 "nbformat_minor": 2
}
